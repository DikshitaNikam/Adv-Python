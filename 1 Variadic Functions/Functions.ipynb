{
 "cells": [
  {
   "cell_type": "markdown",
   "metadata": {},
   "source": [
    "# Variadic Function"
   ]
  },
  {
   "cell_type": "code",
   "execution_count": 1,
   "metadata": {},
   "outputs": [],
   "source": [
    "from warnings import  filterwarnings\n",
    "filterwarnings(\"ignore\")"
   ]
  },
  {
   "cell_type": "code",
   "execution_count": 2,
   "metadata": {},
   "outputs": [],
   "source": [
    "def multiply(a: int | float, b: int | float) -> int | float:\n",
    "    \"\"\"\n",
    "    Input : This function takes two numbers as input\n",
    "    Output: Multiplication of two numbers\n",
    "    \"\"\"\n",
    "    c = a * b\n",
    "    return c"
   ]
  },
  {
   "cell_type": "code",
   "execution_count": 3,
   "metadata": {},
   "outputs": [
    {
     "data": {
      "text/plain": [
       "168"
      ]
     },
     "execution_count": 3,
     "metadata": {},
     "output_type": "execute_result"
    }
   ],
   "source": [
    "multiply(12, 14)"
   ]
  },
  {
   "cell_type": "code",
   "execution_count": 4,
   "metadata": {},
   "outputs": [],
   "source": [
    "# Args in function\n",
    "m1 = multiply(3,4)"
   ]
  },
  {
   "cell_type": "code",
   "execution_count": 5,
   "metadata": {},
   "outputs": [
    {
     "data": {
      "text/plain": [
       "12"
      ]
     },
     "execution_count": 5,
     "metadata": {},
     "output_type": "execute_result"
    }
   ],
   "source": [
    "m1"
   ]
  },
  {
   "cell_type": "code",
   "execution_count": 6,
   "metadata": {},
   "outputs": [],
   "source": [
    "# Keyword Arguments\n",
    "m2 = multiply(a=12.5, b=5.2)"
   ]
  },
  {
   "cell_type": "code",
   "execution_count": 7,
   "metadata": {},
   "outputs": [
    {
     "data": {
      "text/plain": [
       "65.0"
      ]
     },
     "execution_count": 7,
     "metadata": {},
     "output_type": "execute_result"
    }
   ],
   "source": [
    "m2"
   ]
  },
  {
   "cell_type": "markdown",
   "metadata": {},
   "source": []
  },
  {
   "cell_type": "markdown",
   "metadata": {},
   "source": [
    "### Args in function\n",
    "1. *args- will act like a tuple in function"
   ]
  },
  {
   "cell_type": "code",
   "execution_count": 3,
   "metadata": {},
   "outputs": [],
   "source": [
    "def func1(*args):\n",
    "    print(args)\n",
    "    print(type(args))\n",
    "    for i in args:\n",
    "        print(i)"
   ]
  },
  {
   "cell_type": "code",
   "execution_count": 9,
   "metadata": {},
   "outputs": [
    {
     "name": "stdout",
     "output_type": "stream",
     "text": [
      "('Dikshita', True, 12.5, False)\n",
      "<class 'tuple'>\n",
      "Dikshita\n",
      "True\n",
      "12.5\n",
      "False\n"
     ]
    }
   ],
   "source": [
    "func1(\"Dikshita\", True, 12.5, False)"
   ]
  },
  {
   "cell_type": "code",
   "execution_count": 10,
   "metadata": {},
   "outputs": [
    {
     "name": "stdout",
     "output_type": "stream",
     "text": [
      "('Etlhive',)\n",
      "<class 'tuple'>\n",
      "Etlhive\n"
     ]
    }
   ],
   "source": [
    "func1(\"Etlhive\")"
   ]
  },
  {
   "cell_type": "markdown",
   "metadata": {},
   "source": [
    "### Pass List as an argument"
   ]
  },
  {
   "cell_type": "code",
   "execution_count": 1,
   "metadata": {},
   "outputs": [
    {
     "data": {
      "text/plain": [
       "list"
      ]
     },
     "execution_count": 1,
     "metadata": {},
     "output_type": "execute_result"
    }
   ],
   "source": [
    "a = [1,2,3,4,5,6,11,12,15,120,25]\n",
    "type(a)"
   ]
  },
  {
   "cell_type": "code",
   "execution_count": 4,
   "metadata": {},
   "outputs": [
    {
     "name": "stdout",
     "output_type": "stream",
     "text": [
      "(1, 2, 3, 4, 5, 6, 11, 12, 15, 120, 25)\n",
      "<class 'tuple'>\n",
      "1\n",
      "2\n",
      "3\n",
      "4\n",
      "5\n",
      "6\n",
      "11\n",
      "12\n",
      "15\n",
      "120\n",
      "25\n"
     ]
    }
   ],
   "source": [
    "func1(*a)"
   ]
  },
  {
   "cell_type": "markdown",
   "metadata": {},
   "source": [
    "### Write a Variatic function to apply multiplication om all args"
   ]
  },
  {
   "cell_type": "code",
   "execution_count": 5,
   "metadata": {},
   "outputs": [],
   "source": [
    "def product(*args):\n",
    "    # Intialize the product to 1\n",
    "    p = 1\n",
    "\n",
    "    # Apply for loop on args\n",
    "    for i in args:\n",
    "        p = p * i\n",
    "\n",
    "    # Return the value of product\n",
    "    return p"
   ]
  },
  {
   "cell_type": "code",
   "execution_count": 6,
   "metadata": {},
   "outputs": [
    {
     "data": {
      "text/plain": [
       "40"
      ]
     },
     "execution_count": 6,
     "metadata": {},
     "output_type": "execute_result"
    }
   ],
   "source": [
    "product(5,8)"
   ]
  },
  {
   "cell_type": "code",
   "execution_count": 7,
   "metadata": {},
   "outputs": [
    {
     "data": {
      "text/plain": [
       "6720"
      ]
     },
     "execution_count": 7,
     "metadata": {},
     "output_type": "execute_result"
    }
   ],
   "source": [
    "product(4,5,6,7,8)"
   ]
  },
  {
   "cell_type": "code",
   "execution_count": 8,
   "metadata": {},
   "outputs": [
    {
     "data": {
      "text/plain": [
       "924"
      ]
     },
     "execution_count": 8,
     "metadata": {},
     "output_type": "execute_result"
    }
   ],
   "source": [
    "b = [1, 2,3,11,14]\n",
    "product(*b)"
   ]
  },
  {
   "cell_type": "markdown",
   "metadata": {},
   "source": [
    "### Billing examole"
   ]
  },
  {
   "cell_type": "code",
   "execution_count": 9,
   "metadata": {},
   "outputs": [],
   "source": [
    "c1 = [\n",
    "    (\"Mobile\", 35000, 2),\n",
    "    (\"Screen  Gaurd\", 1200, 4),\n",
    "    (\"Cover\", 300, 4)\n",
    "]"
   ]
  },
  {
   "cell_type": "markdown",
   "metadata": {},
   "source": [
    "### For above cart value do the billing and add tax rate"
   ]
  },
  {
   "cell_type": "code",
   "execution_count": 13,
   "metadata": {},
   "outputs": [],
   "source": [
    "def billing(tax_rate: int | float, *args):\n",
    "    # Intitialize total before tax\n",
    "    total_before_tax = 0\n",
    "    # Apply for loop on args\n",
    "    for name, price, qty in args:\n",
    "        item_total = price*qty\n",
    "        total_before_tax = total_before_tax + item_total\n",
    "        print(f\"Product Name : {name}, Price : {price} INR, Quantity : {qty} Nos\")\n",
    "        print(f\"Item Total : {item_total:.2f} INR\")\n",
    "        print(\"\\n=====================================\\n\")\n",
    "    \n",
    "    # Apply tax on total before tax\n",
    "    tax = (tax_rate / 100) * total_before_tax\n",
    "    final_amount = total_before_tax + tax\n",
    "\n",
    "    # Show the tax and final total\n",
    "    print(f\"Total before Tax : {total_before_tax:.2f} INR\")\n",
    "    print(f\"Tax : {tax:.2f} INR\")\n",
    "    print(f\"Final Total : {final_amount:.2f} INR \")\n",
    "\n",
    "    # Return the value of final total\n",
    "    return final_amount"
   ]
  },
  {
   "cell_type": "code",
   "execution_count": 11,
   "metadata": {},
   "outputs": [
    {
     "data": {
      "text/plain": [
       "[('Mobile', 35000, 2), ('Screen  Gaurd', 1200, 4), ('Cover', 300, 4)]"
      ]
     },
     "execution_count": 11,
     "metadata": {},
     "output_type": "execute_result"
    }
   ],
   "source": [
    "c1"
   ]
  },
  {
   "cell_type": "code",
   "execution_count": 14,
   "metadata": {},
   "outputs": [
    {
     "name": "stdout",
     "output_type": "stream",
     "text": [
      "Product Name : Mobile, Price : 35000 INR, Quantity : 2 Nos\n",
      "Item Total : 70000.00 INR\n",
      "\n",
      "=====================================\n",
      "\n",
      "Product Name : Screen  Gaurd, Price : 1200 INR, Quantity : 4 Nos\n",
      "Item Total : 4800.00 INR\n",
      "\n",
      "=====================================\n",
      "\n",
      "Product Name : Cover, Price : 300 INR, Quantity : 4 Nos\n",
      "Item Total : 1200.00 INR\n",
      "\n",
      "=====================================\n",
      "\n",
      "Total before Tax : 76000.00 INR\n",
      "Tax : 13680.00 INR\n",
      "Final Total : 89680.00 INR \n"
     ]
    }
   ],
   "source": [
    "a1 = billing(18, *c1)"
   ]
  },
  {
   "cell_type": "code",
   "execution_count": 15,
   "metadata": {},
   "outputs": [
    {
     "data": {
      "text/plain": [
       "13680.0"
      ]
     },
     "execution_count": 15,
     "metadata": {},
     "output_type": "execute_result"
    }
   ],
   "source": [
    "(18/100)*76000"
   ]
  },
  {
   "cell_type": "code",
   "execution_count": 16,
   "metadata": {},
   "outputs": [
    {
     "name": "stdout",
     "output_type": "stream",
     "text": [
      "Product Name : Laptop, Price : 70000 INR, Quantity : 1 Nos\n",
      "Item Total : 70000.00 INR\n",
      "\n",
      "=====================================\n",
      "\n",
      "Product Name : Mouse, Price : 800 INR, Quantity : 2 Nos\n",
      "Item Total : 1600.00 INR\n",
      "\n",
      "=====================================\n",
      "\n",
      "Product Name : Keyboard, Price : 1500 INR, Quantity : 1 Nos\n",
      "Item Total : 1500.00 INR\n",
      "\n",
      "=====================================\n",
      "\n",
      "Product Name : Mouse pad, Price : 300 INR, Quantity : 2 Nos\n",
      "Item Total : 600.00 INR\n",
      "\n",
      "=====================================\n",
      "\n",
      "Product Name : Keypad cover, Price : 400 INR, Quantity : 1 Nos\n",
      "Item Total : 400.00 INR\n",
      "\n",
      "=====================================\n",
      "\n",
      "Total before Tax : 74100.00 INR\n",
      "Tax : 13338.00 INR\n",
      "Final Total : 87438.00 INR \n"
     ]
    }
   ],
   "source": [
    "a2 = billing(\n",
    "    18,\n",
    "    (\"Laptop\", 70000, 1),\n",
    "    (\"Mouse\", 800, 2),\n",
    "    (\"Keyboard\", 1500, 1),\n",
    "    (\"Mouse pad\", 300, 2),\n",
    "    (\"Keypad cover\", 400, 1)\n",
    ")"
   ]
  },
  {
   "cell_type": "markdown",
   "metadata": {},
   "source": [
    "### Keyword arguments in python\n",
    "1. **kwargs - IT acts like a dictionary in python"
   ]
  },
  {
   "cell_type": "code",
   "execution_count": 17,
   "metadata": {},
   "outputs": [],
   "source": [
    "def func2(**kwargs):\n",
    "    print(kwargs)\n",
    "    print(type(kwargs))\n",
    "    for key, value in kwargs.items():\n",
    "        print(key, value)"
   ]
  },
  {
   "cell_type": "code",
   "execution_count": 18,
   "metadata": {},
   "outputs": [
    {
     "name": "stdout",
     "output_type": "stream",
     "text": [
      "{'a': 23, 'b': False, 'name': 'Raman', 'age': 32}\n",
      "<class 'dict'>\n",
      "a 23\n",
      "b False\n",
      "name Raman\n",
      "age 32\n"
     ]
    }
   ],
   "source": [
    "func2(a=23, b=False, name=\"Raman\", age=32)"
   ]
  },
  {
   "cell_type": "code",
   "execution_count": 19,
   "metadata": {},
   "outputs": [
    {
     "name": "stdout",
     "output_type": "stream",
     "text": [
      "{'b': 35.7, 'd': True}\n",
      "<class 'dict'>\n",
      "b 35.7\n",
      "d True\n"
     ]
    }
   ],
   "source": [
    "func2(b=35.7, d=True)"
   ]
  },
  {
   "cell_type": "code",
   "execution_count": 20,
   "metadata": {},
   "outputs": [
    {
     "data": {
      "text/plain": [
       "dict"
      ]
     },
     "execution_count": 20,
     "metadata": {},
     "output_type": "execute_result"
    }
   ],
   "source": [
    "d = {\n",
    "    \"name\":\"Aditi\",\n",
    "    \"age\": 28,\n",
    "    \"occupation\": \"HR\"\n",
    "}\n",
    "type(d)"
   ]
  },
  {
   "cell_type": "code",
   "execution_count": 21,
   "metadata": {},
   "outputs": [
    {
     "name": "stdout",
     "output_type": "stream",
     "text": [
      "{'name': 'Aditi', 'age': 28, 'occupation': 'HR'}\n",
      "<class 'dict'>\n",
      "name Aditi\n",
      "age 28\n",
      "occupation HR\n"
     ]
    }
   ],
   "source": [
    "func2(**d)"
   ]
  },
  {
   "cell_type": "markdown",
   "metadata": {},
   "source": [
    "### Create a new user"
   ]
  },
  {
   "cell_type": "code",
   "execution_count": 22,
   "metadata": {},
   "outputs": [],
   "source": [
    "def create_user(**kwargs):\n",
    "    user = {\n",
    "        \"name\": \"NA\",\n",
    "        \"age\": \"NA\",\n",
    "        \"email\": \"NA\"\n",
    "    }\n",
    "    user.update(kwargs)\n",
    "\n",
    "    return user\n"
   ]
  },
  {
   "cell_type": "code",
   "execution_count": 23,
   "metadata": {},
   "outputs": [],
   "source": [
    "u1 = create_user(name=\"Rahul\", age=29)"
   ]
  },
  {
   "cell_type": "code",
   "execution_count": 24,
   "metadata": {},
   "outputs": [
    {
     "data": {
      "text/plain": [
       "{'name': 'Rahul', 'age': 29, 'email': 'NA'}"
      ]
     },
     "execution_count": 24,
     "metadata": {},
     "output_type": "execute_result"
    }
   ],
   "source": [
    "u1"
   ]
  },
  {
   "cell_type": "code",
   "execution_count": 25,
   "metadata": {},
   "outputs": [],
   "source": [
    "u2 = create_user(name=\"Raman\")"
   ]
  },
  {
   "cell_type": "code",
   "execution_count": 26,
   "metadata": {},
   "outputs": [
    {
     "data": {
      "text/plain": [
       "{'name': 'Raman', 'age': 'NA', 'email': 'NA'}"
      ]
     },
     "execution_count": 26,
     "metadata": {},
     "output_type": "execute_result"
    }
   ],
   "source": [
    "u2"
   ]
  },
  {
   "cell_type": "code",
   "execution_count": 27,
   "metadata": {},
   "outputs": [],
   "source": [
    "u3 = create_user(\n",
    "    name=\"Priya\",\n",
    "    age=35,\n",
    "    email=\"priya@test.com\"\n",
    ")"
   ]
  },
  {
   "cell_type": "code",
   "execution_count": 28,
   "metadata": {},
   "outputs": [
    {
     "data": {
      "text/plain": [
       "{'name': 'Priya', 'age': 35, 'email': 'priya@test.com'}"
      ]
     },
     "execution_count": 28,
     "metadata": {},
     "output_type": "execute_result"
    }
   ],
   "source": [
    "u3"
   ]
  },
  {
   "cell_type": "code",
   "execution_count": 29,
   "metadata": {},
   "outputs": [],
   "source": [
    "u4 = create_user(\n",
    "    name= \"John\",\n",
    "    email =\"john@test.com\",\n",
    "    contact = 989999999\n",
    ")"
   ]
  },
  {
   "cell_type": "code",
   "execution_count": 30,
   "metadata": {},
   "outputs": [
    {
     "data": {
      "text/plain": [
       "{'name': 'John', 'age': 'NA', 'email': 'john@test.com', 'contact': 989999999}"
      ]
     },
     "execution_count": 30,
     "metadata": {},
     "output_type": "execute_result"
    }
   ],
   "source": [
    "u4"
   ]
  },
  {
   "cell_type": "code",
   "execution_count": null,
   "metadata": {},
   "outputs": [],
   "source": []
  }
 ],
 "metadata": {
  "kernelspec": {
   "display_name": "venv",
   "language": "python",
   "name": "python3"
  },
  "language_info": {
   "codemirror_mode": {
    "name": "ipython",
    "version": 3
   },
   "file_extension": ".py",
   "mimetype": "text/x-python",
   "name": "python",
   "nbconvert_exporter": "python",
   "pygments_lexer": "ipython3",
   "version": "3.12.5"
  }
 },
 "nbformat": 4,
 "nbformat_minor": 2
}
