{
 "cells": [
  {
   "cell_type": "markdown",
   "metadata": {},
   "source": [
    "# API- Application Programming Interface\n",
    "Alpha Vantage - https://rapidapi.com/alphavantage/api/alpha-vantage"
   ]
  },
  {
   "cell_type": "code",
   "execution_count": 2,
   "metadata": {},
   "outputs": [],
   "source": [
    "from warnings import filterwarnings\n",
    "filterwarnings (\"ignore\")"
   ]
  },
  {
   "cell_type": "code",
   "execution_count": 3,
   "metadata": {},
   "outputs": [
    {
     "name": "stdout",
     "output_type": "stream",
     "text": [
      "Requirement already satisfied: python-dotenv in c:\\advance python\\repository\\venv\\lib\\site-packages (1.0.1)\n",
      "Note: you may need to restart the kernel to use updated packages.\n"
     ]
    },
    {
     "name": "stderr",
     "output_type": "stream",
     "text": [
      "\n",
      "[notice] A new release of pip is available: 24.3.1 -> 25.0.1\n",
      "[notice] To update, run: python.exe -m pip install --upgrade pip\n"
     ]
    }
   ],
   "source": [
    "%pip install python-dotenv"
   ]
  },
  {
   "cell_type": "markdown",
   "metadata": {},
   "source": [
    "### Read the API KEY"
   ]
  },
  {
   "cell_type": "code",
   "execution_count": 4,
   "metadata": {},
   "outputs": [
    {
     "data": {
      "text/plain": [
       "True"
      ]
     },
     "execution_count": 4,
     "metadata": {},
     "output_type": "execute_result"
    }
   ],
   "source": [
    "from dotenv import load_dotenv\n",
    "load_dotenv()"
   ]
  },
  {
   "cell_type": "code",
   "execution_count": 5,
   "metadata": {},
   "outputs": [],
   "source": [
    "import os\n",
    "api_key = os.getenv(\"API_KEY\")"
   ]
  },
  {
   "cell_type": "markdown",
   "metadata": {},
   "source": [
    "### API Loaded"
   ]
  },
  {
   "cell_type": "markdown",
   "metadata": {},
   "source": [
    "### Symbol search"
   ]
  },
  {
   "cell_type": "code",
   "execution_count": 13,
   "metadata": {},
   "outputs": [],
   "source": [
    "import requests\n",
    "\n",
    "url = \"https://alpha-vantage.p.rapidapi.com/query\"\n",
    "\n",
    "querystring = {\"datatype\":\"json\",\"keywords\":\"State Bank of India\",\"function\":\"SYMBOL_SEARCH\"}\n",
    "\n",
    "headers = {\n",
    "\t\"x-rapidapi-key\": api_key,\n",
    "\t\"x-rapidapi-host\": \"alpha-vantage.p.rapidapi.com\"\n",
    "}\n",
    "\n",
    "response = requests.get(url, headers=headers, params=querystring)\n",
    "\n",
    "data = response.json()"
   ]
  },
  {
   "cell_type": "code",
   "execution_count": 14,
   "metadata": {},
   "outputs": [
    {
     "data": {
      "text/plain": [
       "{'bestMatches': [{'1. symbol': 'SBIN.BSE',\n",
       "   '2. name': 'State Bank of India',\n",
       "   '3. type': 'Equity',\n",
       "   '4. region': 'India/Bombay',\n",
       "   '5. marketOpen': '09:15',\n",
       "   '6. marketClose': '15:30',\n",
       "   '7. timezone': 'UTC+5.5',\n",
       "   '8. currency': 'INR',\n",
       "   '9. matchScore': '1.0000'},\n",
       "  {'1. symbol': 'SBKFF',\n",
       "   '2. name': 'State Bank of India',\n",
       "   '3. type': 'Equity',\n",
       "   '4. region': 'United States',\n",
       "   '5. marketOpen': '09:30',\n",
       "   '6. marketClose': '16:00',\n",
       "   '7. timezone': 'UTC-04',\n",
       "   '8. currency': 'USD',\n",
       "   '9. matchScore': '1.0000'},\n",
       "  {'1. symbol': 'SID.FRK',\n",
       "   '2. name': 'State Bank of India',\n",
       "   '3. type': 'Equity',\n",
       "   '4. region': 'Frankfurt',\n",
       "   '5. marketOpen': '08:00',\n",
       "   '6. marketClose': '20:00',\n",
       "   '7. timezone': 'UTC+02',\n",
       "   '8. currency': 'EUR',\n",
       "   '9. matchScore': '1.0000'},\n",
       "  {'1. symbol': 'SBID.LON',\n",
       "   '2. name': 'State Bank of India GDR',\n",
       "   '3. type': 'Equity',\n",
       "   '4. region': 'United Kingdom',\n",
       "   '5. marketOpen': '08:00',\n",
       "   '6. marketClose': '16:30',\n",
       "   '7. timezone': 'UTC+01',\n",
       "   '8. currency': 'USD',\n",
       "   '9. matchScore': '0.9048'}]}"
      ]
     },
     "execution_count": 14,
     "metadata": {},
     "output_type": "execute_result"
    }
   ],
   "source": [
    "data"
   ]
  },
  {
   "cell_type": "code",
   "execution_count": 15,
   "metadata": {},
   "outputs": [
    {
     "data": {
      "text/plain": [
       "dict"
      ]
     },
     "execution_count": 15,
     "metadata": {},
     "output_type": "execute_result"
    }
   ],
   "source": [
    "type(data)"
   ]
  },
  {
   "cell_type": "code",
   "execution_count": 9,
   "metadata": {},
   "outputs": [
    {
     "data": {
      "text/plain": [
       "{'bestMatches': [{'1. symbol': 'MSF0.FRK',\n",
       "   '2. name': 'MICROSOFT CORP. CDR',\n",
       "   '3. type': 'Equity',\n",
       "   '4. region': 'Frankfurt',\n",
       "   '5. marketOpen': '08:00',\n",
       "   '6. marketClose': '20:00',\n",
       "   '7. timezone': 'UTC+02',\n",
       "   '8. currency': 'EUR',\n",
       "   '9. matchScore': '0.6429'},\n",
       "  {'1. symbol': 'MSFT',\n",
       "   '2. name': 'Microsoft Corporation',\n",
       "   '3. type': 'Equity',\n",
       "   '4. region': 'United States',\n",
       "   '5. marketOpen': '09:30',\n",
       "   '6. marketClose': '16:00',\n",
       "   '7. timezone': 'UTC-04',\n",
       "   '8. currency': 'USD',\n",
       "   '9. matchScore': '0.6154'},\n",
       "  {'1. symbol': '0QYP.LON',\n",
       "   '2. name': 'Microsoft Corporation',\n",
       "   '3. type': 'Equity',\n",
       "   '4. region': 'United Kingdom',\n",
       "   '5. marketOpen': '08:00',\n",
       "   '6. marketClose': '16:30',\n",
       "   '7. timezone': 'UTC+01',\n",
       "   '8. currency': 'USD',\n",
       "   '9. matchScore': '0.6000'},\n",
       "  {'1. symbol': 'MSF.DEX',\n",
       "   '2. name': 'Microsoft Corporation',\n",
       "   '3. type': 'Equity',\n",
       "   '4. region': 'XETRA',\n",
       "   '5. marketOpen': '08:00',\n",
       "   '6. marketClose': '20:00',\n",
       "   '7. timezone': 'UTC+02',\n",
       "   '8. currency': 'EUR',\n",
       "   '9. matchScore': '0.6000'},\n",
       "  {'1. symbol': 'MSF.FRK',\n",
       "   '2. name': 'Microsoft Corporation',\n",
       "   '3. type': 'Equity',\n",
       "   '4. region': 'Frankfurt',\n",
       "   '5. marketOpen': '08:00',\n",
       "   '6. marketClose': '20:00',\n",
       "   '7. timezone': 'UTC+02',\n",
       "   '8. currency': 'EUR',\n",
       "   '9. matchScore': '0.6000'},\n",
       "  {'1. symbol': 'MSFT34.SAO',\n",
       "   '2. name': 'Microsoft Corporation',\n",
       "   '3. type': 'Equity',\n",
       "   '4. region': 'Brazil/Sao Paolo',\n",
       "   '5. marketOpen': '10:00',\n",
       "   '6. marketClose': '17:30',\n",
       "   '7. timezone': 'UTC-03',\n",
       "   '8. currency': 'BRL',\n",
       "   '9. matchScore': '0.6000'},\n",
       "  {'1. symbol': 'MSFT.TRT',\n",
       "   '2. name': 'Microsoft CDR (CAD Hedged)',\n",
       "   '3. type': 'Equity',\n",
       "   '4. region': 'Toronto',\n",
       "   '5. marketOpen': '09:30',\n",
       "   '6. marketClose': '16:00',\n",
       "   '7. timezone': 'UTC-05',\n",
       "   '8. currency': 'CAD',\n",
       "   '9. matchScore': '0.5143'}]}"
      ]
     },
     "execution_count": 9,
     "metadata": {},
     "output_type": "execute_result"
    }
   ],
   "source": [
    "data"
   ]
  },
  {
   "cell_type": "markdown",
   "metadata": {},
   "source": [
    "### Extracting only required details\n",
    "### store name, company, region"
   ]
  },
  {
   "cell_type": "code",
   "execution_count": 16,
   "metadata": {},
   "outputs": [],
   "source": [
    "d = {}\n",
    "\n",
    "for i in data[\"bestMatches\"]:\n",
    "    symbol = i[\"1. symbol\"]\n",
    "    d[symbol] = [i[\"2. name\"],i[\"4. region\"],i[\"8. currency\"]]\n"
   ]
  },
  {
   "cell_type": "code",
   "execution_count": 17,
   "metadata": {},
   "outputs": [
    {
     "data": {
      "text/plain": [
       "{'SBIN.BSE': ['State Bank of India', 'India/Bombay', 'INR'],\n",
       " 'SBKFF': ['State Bank of India', 'United States', 'USD'],\n",
       " 'SID.FRK': ['State Bank of India', 'Frankfurt', 'EUR'],\n",
       " 'SBID.LON': ['State Bank of India GDR', 'United Kingdom', 'USD']}"
      ]
     },
     "execution_count": 17,
     "metadata": {},
     "output_type": "execute_result"
    }
   ],
   "source": [
    "d"
   ]
  },
  {
   "cell_type": "markdown",
   "metadata": {},
   "source": [
    "### Get actual stock data for state bank of india SBIN.BSE"
   ]
  },
  {
   "attachments": {
    "image.png": {
     "image/png": "[encoded data removed]"
    }
   },
   "cell_type": "markdown",
   "metadata": {},
   "source": [
    "![image.png](attachment:image.png)"
   ]
  },
  {
   "cell_type": "code",
   "execution_count": 18,
   "metadata": {},
   "outputs": [],
   "source": [
    "import requests\n",
    "\n",
    "url = \"https://alpha-vantage.p.rapidapi.com/query\"\n",
    "\n",
    "querystring = {\"function\":\"TIME_SERIES_DAILY\",\"symbol\":\"SBIN.BSE\",\"outputsize\":\"compact\",\"datatype\":\"json\"}\n",
    "\n",
    "headers = {\n",
    "\t\"x-rapidapi-key\": api_key,\n",
    "\t\"x-rapidapi-host\": \"alpha-vantage.p.rapidapi.com\"\n",
    "}\n",
    "\n",
    "response = requests.get(url, headers=headers, params=querystring)\n",
    "\n",
    "data2 = response.json()"
   ]
  },
  {
   "cell_type": "code",
   "execution_count": 19,
   "metadata": {},
   "outputs": [
    {
     "data": {
      "text/plain": [
       "{'Meta Data': {'1. Information': 'Daily Prices (open, high, low, close) and Volumes',\n",
       "  '2. Symbol': 'SBIN.BSE',\n",
       "  '3. Last Refreshed': '2025-02-18',\n",
       "  '4. Output Size': 'Compact',\n",
       "  '5. Time Zone': 'US/Eastern'},\n",
       " 'Time Series (Daily)': {'2025-02-18': {'1. open': '727.9500',\n",
       "   '2. high': '727.9500',\n",
       "   '3. low': '717.4500',\n",
       "   '4. close': '725.7500',\n",
       "   '5. volume': '396321'},\n",
       "  '2025-02-17': {'1. open': '721.8500',\n",
       "   '2. high': '728.9500',\n",
       "   '3. low': '711.4000',\n",
       "   '4. close': '728.0500',\n",
       "   '5. volume': '751026'},\n",
       "  '2025-02-14': {'1. open': '729.4500',\n",
       "   '2. high': '732.7000',\n",
       "   '3. low': '716.1500',\n",
       "   '4. close': '722.0000',\n",
       "   '5. volume': '895669'},\n",
       "  '2025-02-13': {'1. open': '735.0000',\n",
       "   '2. high': '737.3000',\n",
       "   '3. low': '726.0500',\n",
       "   '4. close': '727.3000',\n",
       "   '5. volume': '605466'},\n",
       "  '2025-02-12': {'1. open': '732.9500',\n",
       "   '2. high': '738.3000',\n",
       "   '3. low': '717.2500',\n",
       "   '4. close': '733.2500',\n",
       "   '5. volume': '550605'},\n",
       "  '2025-02-11': {'1. open': '738.1500',\n",
       "   '2. high': '740.0000',\n",
       "   '3. low': '726.9000',\n",
       "   '4. close': '731.0000',\n",
       "   '5. volume': '826170'},\n",
       "  '2025-02-10': {'1. open': '740.5500',\n",
       "   '2. high': '744.0500',\n",
       "   '3. low': '733.6000',\n",
       "   '4. close': '736.8500',\n",
       "   '5. volume': '788061'},\n",
       "  '2025-02-07': {'1. open': '761.8000',\n",
       "   '2. high': '761.8000',\n",
       "   '3. low': '732.0500',\n",
       "   '4. close': '737.0500',\n",
       "   '5. volume': '1805880'},\n",
       "  '2025-02-06': {'1. open': '769.6500',\n",
       "   '2. high': '770.9500',\n",
       "   '3. low': '750.0000',\n",
       "   '4. close': '752.3500',\n",
       "   '5. volume': '1384322'},\n",
       "  '2025-02-05': {'1. open': '780.8000',\n",
       "   '2. high': '781.6000',\n",
       "   '3. low': '764.6500',\n",
       "   '4. close': '766.1000',\n",
       "   '5. volume': '654303'},\n",
       "  '2025-02-04': {'1. open': '766.3000',\n",
       "   '2. high': '780.8500',\n",
       "   '3. low': '766.0000',\n",
       "   '4. close': '779.2000',\n",
       "   '5. volume': '749753'},\n",
       "  '2025-02-03': {'1. open': '763.6500',\n",
       "   '2. high': '763.6500',\n",
       "   '3. low': '753.4500',\n",
       "   '4. close': '761.0000',\n",
       "   '5. volume': '427934'},\n",
       "  '2025-01-31': {'1. open': '765.0000',\n",
       "   '2. high': '777.7500',\n",
       "   '3. low': '759.3500',\n",
       "   '4. close': '773.1000',\n",
       "   '5. volume': '241965'},\n",
       "  '2025-01-30': {'1. open': '759.4000',\n",
       "   '2. high': '764.8500',\n",
       "   '3. low': '754.7000',\n",
       "   '4. close': '762.2000',\n",
       "   '5. volume': '618809'},\n",
       "  '2025-01-29': {'1. open': '752.5000',\n",
       "   '2. high': '760.2500',\n",
       "   '3. low': '749.8000',\n",
       "   '4. close': '758.7000',\n",
       "   '5. volume': '379821'},\n",
       "  '2025-01-28': {'1. open': '756.2000',\n",
       "   '2. high': '759.6000',\n",
       "   '3. low': '745.6500',\n",
       "   '4. close': '751.6500',\n",
       "   '5. volume': '794022'},\n",
       "  '2025-01-27': {'1. open': '740.0000',\n",
       "   '2. high': '755.3000',\n",
       "   '3. low': '736.0000',\n",
       "   '4. close': '749.2000',\n",
       "   '5. volume': '775011'},\n",
       "  '2025-01-24': {'1. open': '747.2000',\n",
       "   '2. high': '753.7500',\n",
       "   '3. low': '738.8500',\n",
       "   '4. close': '744.3500',\n",
       "   '5. volume': '458033'},\n",
       "  '2025-01-23': {'1. open': '751.9500',\n",
       "   '2. high': '755.8000',\n",
       "   '3. low': '743.3000',\n",
       "   '4. close': '745.9500',\n",
       "   '5. volume': '235130'},\n",
       "  '2025-01-22': {'1. open': '762.8500',\n",
       "   '2. high': '762.8500',\n",
       "   '3. low': '738.3000',\n",
       "   '4. close': '753.2500',\n",
       "   '5. volume': '237866'},\n",
       "  '2025-01-21': {'1. open': '784.9500',\n",
       "   '2. high': '785.3000',\n",
       "   '3. low': '756.2500',\n",
       "   '4. close': '759.0000',\n",
       "   '5. volume': '953600'},\n",
       "  '2025-01-20': {'1. open': '765.0500',\n",
       "   '2. high': '784.9500',\n",
       "   '3. low': '765.0500',\n",
       "   '4. close': '779.0500',\n",
       "   '5. volume': '559123'},\n",
       "  '2025-01-17': {'1. open': '766.9000',\n",
       "   '2. high': '767.8500',\n",
       "   '3. low': '759.4500',\n",
       "   '4. close': '764.1000',\n",
       "   '5. volume': '497950'},\n",
       "  '2025-01-16': {'1. open': '761.6500',\n",
       "   '2. high': '776.5500',\n",
       "   '3. low': '760.0500',\n",
       "   '4. close': '766.4000',\n",
       "   '5. volume': '511761'},\n",
       "  '2025-01-15': {'1. open': '753.7000',\n",
       "   '2. high': '758.8500',\n",
       "   '3. low': '750.3500',\n",
       "   '4. close': '754.0000',\n",
       "   '5. volume': '171791'},\n",
       "  '2025-01-14': {'1. open': '730.6000',\n",
       "   '2. high': '756.9000',\n",
       "   '3. low': '730.6000',\n",
       "   '4. close': '748.1000',\n",
       "   '5. volume': '687121'},\n",
       "  '2025-01-13': {'1. open': '742.9500',\n",
       "   '2. high': '743.8500',\n",
       "   '3. low': '722.5000',\n",
       "   '4. close': '729.6000',\n",
       "   '5. volume': '300275'},\n",
       "  '2025-01-10': {'1. open': '760.3500',\n",
       "   '2. high': '760.8000',\n",
       "   '3. low': '742.0000',\n",
       "   '4. close': '743.1500',\n",
       "   '5. volume': '454472'},\n",
       "  '2025-01-09': {'1. open': '771.9500',\n",
       "   '2. high': '771.9500',\n",
       "   '3. low': '726.9000',\n",
       "   '4. close': '760.3500',\n",
       "   '5. volume': '803943'},\n",
       "  '2025-01-08': {'1. open': '781.0000',\n",
       "   '2. high': '782.5000',\n",
       "   '3. low': '760.1000',\n",
       "   '4. close': '771.2000',\n",
       "   '5. volume': '1224097'},\n",
       "  '2025-01-07': {'1. open': '778.0500',\n",
       "   '2. high': '783.7500',\n",
       "   '3. low': '775.1000',\n",
       "   '4. close': '779.0000',\n",
       "   '5. volume': '563547'},\n",
       "  '2025-01-06': {'1. open': '798.0000',\n",
       "   '2. high': '798.0000',\n",
       "   '3. low': '773.3000',\n",
       "   '4. close': '776.7500',\n",
       "   '5. volume': '624836'},\n",
       "  '2025-01-03': {'1. open': '801.9000',\n",
       "   '2. high': '809.7000',\n",
       "   '3. low': '792.2500',\n",
       "   '4. close': '793.5000',\n",
       "   '5. volume': '387698'},\n",
       "  '2025-01-02': {'1. open': '795.0000',\n",
       "   '2. high': '802.4000',\n",
       "   '3. low': '786.3000',\n",
       "   '4. close': '801.0500',\n",
       "   '5. volume': '711599'},\n",
       "  '2025-01-01': {'1. open': '796.8500',\n",
       "   '2. high': '798.5000',\n",
       "   '3. low': '789.6000',\n",
       "   '4. close': '793.3500',\n",
       "   '5. volume': '356031'},\n",
       "  '2024-12-31': {'1. open': '788.7500',\n",
       "   '2. high': '798.9500',\n",
       "   '3. low': '787.0000',\n",
       "   '4. close': '795.0500',\n",
       "   '5. volume': '283620'},\n",
       "  '2024-12-30': {'1. open': '802.7000',\n",
       "   '2. high': '808.0000',\n",
       "   '3. low': '785.2000',\n",
       "   '4. close': '788.3000',\n",
       "   '5. volume': '686161'},\n",
       "  '2024-12-27': {'1. open': '817.2500',\n",
       "   '2. high': '818.7500',\n",
       "   '3. low': '797.2500',\n",
       "   '4. close': '799.5500',\n",
       "   '5. volume': '1061163'},\n",
       "  '2024-12-26': {'1. open': '813.0000',\n",
       "   '2. high': '822.9500',\n",
       "   '3. low': '808.0000',\n",
       "   '4. close': '811.6500',\n",
       "   '5. volume': '194920'},\n",
       "  '2024-12-24': {'1. open': '825.0000',\n",
       "   '2. high': '825.5500',\n",
       "   '3. low': '809.2000',\n",
       "   '4. close': '811.8500',\n",
       "   '5. volume': '431577'},\n",
       "  '2024-12-23': {'1. open': '818.3500',\n",
       "   '2. high': '823.9000',\n",
       "   '3. low': '812.4000',\n",
       "   '4. close': '820.9500',\n",
       "   '5. volume': '281649'},\n",
       "  '2024-12-20': {'1. open': '833.8000',\n",
       "   '2. high': '836.4000',\n",
       "   '3. low': '810.0000',\n",
       "   '4. close': '812.5000',\n",
       "   '5. volume': '467910'},\n",
       "  '2024-12-19': {'1. open': '822.0500',\n",
       "   '2. high': '837.9000',\n",
       "   '3. low': '820.1000',\n",
       "   '4. close': '832.8000',\n",
       "   '5. volume': '309033'},\n",
       "  '2024-12-18': {'1. open': '850.2000',\n",
       "   '2. high': '850.8000',\n",
       "   '3. low': '836.7000',\n",
       "   '4. close': '839.0500',\n",
       "   '5. volume': '172425'},\n",
       "  '2024-12-17': {'1. open': '859.7500',\n",
       "   '2. high': '862.9500',\n",
       "   '3. low': '847.1500',\n",
       "   '4. close': '850.2000',\n",
       "   '5. volume': '143409'},\n",
       "  '2024-12-16': {'1. open': '859.0000',\n",
       "   '2. high': '866.2000',\n",
       "   '3. low': '857.8000',\n",
       "   '4. close': '860.7000',\n",
       "   '5. volume': '252691'},\n",
       "  '2024-12-13': {'1. open': '853.7000',\n",
       "   '2. high': '863.0000',\n",
       "   '3. low': '835.0000',\n",
       "   '4. close': '861.7000',\n",
       "   '5. volume': '455324'},\n",
       "  '2024-12-12': {'1. open': '862.5000',\n",
       "   '2. high': '864.2000',\n",
       "   '3. low': '851.2500',\n",
       "   '4. close': '853.7500',\n",
       "   '5. volume': '179011'},\n",
       "  '2024-12-11': {'1. open': '865.7500',\n",
       "   '2. high': '869.7500',\n",
       "   '3. low': '860.8000',\n",
       "   '4. close': '861.5500',\n",
       "   '5. volume': '342069'},\n",
       "  '2024-12-10': {'1. open': '862.0000',\n",
       "   '2. high': '868.8500',\n",
       "   '3. low': '858.5000',\n",
       "   '4. close': '867.6000',\n",
       "   '5. volume': '197287'},\n",
       "  '2024-12-09': {'1. open': '862.9500',\n",
       "   '2. high': '866.8000',\n",
       "   '3. low': '856.7500',\n",
       "   '4. close': '857.8500',\n",
       "   '5. volume': '646144'},\n",
       "  '2024-12-06': {'1. open': '866.9500',\n",
       "   '2. high': '875.5000',\n",
       "   '3. low': '856.8500',\n",
       "   '4. close': '864.0000',\n",
       "   '5. volume': '431320'},\n",
       "  '2024-12-05': {'1. open': '861.6500',\n",
       "   '2. high': '871.0000',\n",
       "   '3. low': '855.6500',\n",
       "   '4. close': '864.8500',\n",
       "   '5. volume': '379508'},\n",
       "  '2024-12-04': {'1. open': '854.4000',\n",
       "   '2. high': '863.8000',\n",
       "   '3. low': '850.2500',\n",
       "   '4. close': '859.4500',\n",
       "   '5. volume': '679548'},\n",
       "  '2024-12-03': {'1. open': '836.4500',\n",
       "   '2. high': '856.6000',\n",
       "   '3. low': '836.4500',\n",
       "   '4. close': '853.9500',\n",
       "   '5. volume': '370485'},\n",
       "  '2024-12-02': {'1. open': '836.2000',\n",
       "   '2. high': '842.0000',\n",
       "   '3. low': '832.8000',\n",
       "   '4. close': '836.2000',\n",
       "   '5. volume': '526054'},\n",
       "  '2024-11-29': {'1. open': '842.0000',\n",
       "   '2. high': '843.8500',\n",
       "   '3. low': '831.5000',\n",
       "   '4. close': '839.0000',\n",
       "   '5. volume': '757635'},\n",
       "  '2024-11-28': {'1. open': '834.9500',\n",
       "   '2. high': '845.7000',\n",
       "   '3. low': '830.3500',\n",
       "   '4. close': '838.7500',\n",
       "   '5. volume': '811586'},\n",
       "  '2024-11-27': {'1. open': '839.3000',\n",
       "   '2. high': '842.1500',\n",
       "   '3. low': '832.0000',\n",
       "   '4. close': '834.2000',\n",
       "   '5. volume': '502957'},\n",
       "  '2024-11-26': {'1. open': '844.7500',\n",
       "   '2. high': '846.7000',\n",
       "   '3. low': '835.2000',\n",
       "   '4. close': '839.3500',\n",
       "   '5. volume': '448647'},\n",
       "  '2024-11-25': {'1. open': '826.2500',\n",
       "   '2. high': '849.3000',\n",
       "   '3. low': '825.9500',\n",
       "   '4. close': '844.7500',\n",
       "   '5. volume': '1612713'},\n",
       "  '2024-11-22': {'1. open': '785.6500',\n",
       "   '2. high': '819.7500',\n",
       "   '3. low': '784.3000',\n",
       "   '4. close': '816.0500',\n",
       "   '5. volume': '1534393'},\n",
       "  '2024-11-21': {'1. open': '800.0000',\n",
       "   '2. high': '800.0000',\n",
       "   '3. low': '761.6500',\n",
       "   '4. close': '780.8500',\n",
       "   '5. volume': '804079'},\n",
       "  '2024-11-19': {'1. open': '817.5500',\n",
       "   '2. high': '820.1000',\n",
       "   '3. low': '800.1000',\n",
       "   '4. close': '802.0000',\n",
       "   '5. volume': '467072'},\n",
       "  '2024-11-18': {'1. open': '810.0500',\n",
       "   '2. high': '816.6500',\n",
       "   '3. low': '799.2000',\n",
       "   '4. close': '813.7000',\n",
       "   '5. volume': '378989'},\n",
       "  '2024-11-14': {'1. open': '809.9500',\n",
       "   '2. high': '817.8500',\n",
       "   '3. low': '801.1000',\n",
       "   '4. close': '804.0500',\n",
       "   '5. volume': '720597'},\n",
       "  '2024-11-13': {'1. open': '822.5000',\n",
       "   '2. high': '831.6500',\n",
       "   '3. low': '804.4500',\n",
       "   '4. close': '808.3500',\n",
       "   '5. volume': '454522'},\n",
       "  '2024-11-12': {'1. open': '851.0000',\n",
       "   '2. high': '853.0000',\n",
       "   '3. low': '824.1000',\n",
       "   '4. close': '826.4000',\n",
       "   '5. volume': '467134'},\n",
       "  '2024-11-11': {'1. open': '847.0000',\n",
       "   '2. high': '853.6500',\n",
       "   '3. low': '841.4500',\n",
       "   '4. close': '847.8000',\n",
       "   '5. volume': '1417460'},\n",
       "  '2024-11-08': {'1. open': '860.0000',\n",
       "   '2. high': '863.6500',\n",
       "   '3. low': '834.3000',\n",
       "   '4. close': '843.2500',\n",
       "   '5. volume': '1106664'},\n",
       "  '2024-11-07': {'1. open': '860.0500',\n",
       "   '2. high': '862.4500',\n",
       "   '3. low': '846.7000',\n",
       "   '4. close': '859.2500',\n",
       "   '5. volume': '494821'},\n",
       "  '2024-11-06': {'1. open': '850.0000',\n",
       "   '2. high': '861.0000',\n",
       "   '3. low': '846.2000',\n",
       "   '4. close': '854.7500',\n",
       "   '5. volume': '896339'},\n",
       "  '2024-11-05': {'1. open': '829.0000',\n",
       "   '2. high': '851.2000',\n",
       "   '3. low': '826.1000',\n",
       "   '4. close': '849.2000',\n",
       "   '5. volume': '1335383'},\n",
       "  '2024-11-04': {'1. open': '822.6500',\n",
       "   '2. high': '837.5000',\n",
       "   '3. low': '807.0500',\n",
       "   '4. close': '829.8500',\n",
       "   '5. volume': '458939'},\n",
       "  '2024-10-31': {'1. open': '821.9500',\n",
       "   '2. high': '828.0000',\n",
       "   '3. low': '813.4500',\n",
       "   '4. close': '820.5000',\n",
       "   '5. volume': '497763'},\n",
       "  '2024-10-30': {'1. open': '830.0000',\n",
       "   '2. high': '832.9000',\n",
       "   '3. low': '821.0500',\n",
       "   '4. close': '822.4000',\n",
       "   '5. volume': '322347'},\n",
       "  '2024-10-29': {'1. open': '796.5000',\n",
       "   '2. high': '834.5000',\n",
       "   '3. low': '790.5000',\n",
       "   '4. close': '832.6500',\n",
       "   '5. volume': '1593501'},\n",
       "  '2024-10-28': {'1. open': '783.2000',\n",
       "   '2. high': '803.9500',\n",
       "   '3. low': '783.2000',\n",
       "   '4. close': '792.0500',\n",
       "   '5. volume': '675658'},\n",
       "  '2024-10-25': {'1. open': '798.4500',\n",
       "   '2. high': '800.0000',\n",
       "   '3. low': '772.0500',\n",
       "   '4. close': '780.6000',\n",
       "   '5. volume': '650630'},\n",
       "  '2024-10-24': {'1. open': '786.0500',\n",
       "   '2. high': '796.8000',\n",
       "   '3. low': '784.5000',\n",
       "   '4. close': '794.7000',\n",
       "   '5. volume': '183971'},\n",
       "  '2024-10-23': {'1. open': '790.0000',\n",
       "   '2. high': '792.5000',\n",
       "   '3. low': '779.6000',\n",
       "   '4. close': '785.9500',\n",
       "   '5. volume': '467975'},\n",
       "  '2024-10-22': {'1. open': '814.1500',\n",
       "   '2. high': '816.3500',\n",
       "   '3. low': '787.6000',\n",
       "   '4. close': '790.4500',\n",
       "   '5. volume': '604778'},\n",
       "  '2024-10-21': {'1. open': '822.0500',\n",
       "   '2. high': '826.3500',\n",
       "   '3. low': '809.1000',\n",
       "   '4. close': '814.1500',\n",
       "   '5. volume': '584223'},\n",
       "  '2024-10-18': {'1. open': '811.0000',\n",
       "   '2. high': '822.4000',\n",
       "   '3. low': '803.1000',\n",
       "   '4. close': '819.9500',\n",
       "   '5. volume': '429099'},\n",
       "  '2024-10-17': {'1. open': '806.0500',\n",
       "   '2. high': '819.2500',\n",
       "   '3. low': '806.0500',\n",
       "   '4. close': '810.9000',\n",
       "   '5. volume': '948591'},\n",
       "  '2024-10-16': {'1. open': '801.0500',\n",
       "   '2. high': '808.9000',\n",
       "   '3. low': '801.0500',\n",
       "   '4. close': '805.8500',\n",
       "   '5. volume': '142406'},\n",
       "  '2024-10-15': {'1. open': '805.0000',\n",
       "   '2. high': '807.6000',\n",
       "   '3. low': '801.5000',\n",
       "   '4. close': '804.6000',\n",
       "   '5. volume': '314354'},\n",
       "  '2024-10-14': {'1. open': '800.1500',\n",
       "   '2. high': '809.0000',\n",
       "   '3. low': '800.1500',\n",
       "   '4. close': '805.2500',\n",
       "   '5. volume': '755286'},\n",
       "  '2024-10-11': {'1. open': '797.0000',\n",
       "   '2. high': '802.5000',\n",
       "   '3. low': '793.0000',\n",
       "   '4. close': '800.0000',\n",
       "   '5. volume': '381115'},\n",
       "  '2024-10-10': {'1. open': '799.9000',\n",
       "   '2. high': '804.3500',\n",
       "   '3. low': '795.0500',\n",
       "   '4. close': '796.9500',\n",
       "   '5. volume': '163966'},\n",
       "  '2024-10-09': {'1. open': '787.9500',\n",
       "   '2. high': '805.0000',\n",
       "   '3. low': '782.5500',\n",
       "   '4. close': '797.0000',\n",
       "   '5. volume': '807499'},\n",
       "  '2024-10-08': {'1. open': '771.1000',\n",
       "   '2. high': '784.5000',\n",
       "   '3. low': '771.1000',\n",
       "   '4. close': '782.0500',\n",
       "   '5. volume': '295906'},\n",
       "  '2024-10-07': {'1. open': '797.0500',\n",
       "   '2. high': '803.9000',\n",
       "   '3. low': '765.5500',\n",
       "   '4. close': '769.8000',\n",
       "   '5. volume': '1587972'},\n",
       "  '2024-10-04': {'1. open': '790.3000',\n",
       "   '2. high': '809.6500',\n",
       "   '3. low': '785.2000',\n",
       "   '4. close': '796.6000',\n",
       "   '5. volume': '1154183'},\n",
       "  '2024-10-03': {'1. open': '787.4000',\n",
       "   '2. high': '803.9500',\n",
       "   '3. low': '784.3500',\n",
       "   '4. close': '794.3500',\n",
       "   '5. volume': '768391'},\n",
       "  '2024-10-01': {'1. open': '788.9500',\n",
       "   '2. high': '799.7500',\n",
       "   '3. low': '788.2500',\n",
       "   '4. close': '797.0000',\n",
       "   '5. volume': '227883'},\n",
       "  '2024-09-30': {'1. open': '801.1500',\n",
       "   '2. high': '802.5000',\n",
       "   '3. low': '786.1500',\n",
       "   '4. close': '787.6000',\n",
       "   '5. volume': '1054719'},\n",
       "  '2024-09-27': {'1. open': '802.0000',\n",
       "   '2. high': '807.8500',\n",
       "   '3. low': '798.4000',\n",
       "   '4. close': '802.6500',\n",
       "   '5. volume': '669965'},\n",
       "  '2024-09-26': {'1. open': '795.1500',\n",
       "   '2. high': '803.0000',\n",
       "   '3. low': '791.5500',\n",
       "   '4. close': '801.9000',\n",
       "   '5. volume': '432917'},\n",
       "  '2024-09-25': {'1. open': '798.2500',\n",
       "   '2. high': '798.2500',\n",
       "   '3. low': '788.6500',\n",
       "   '4. close': '792.9500',\n",
       "   '5. volume': '524539'}}}"
      ]
     },
     "execution_count": 19,
     "metadata": {},
     "output_type": "execute_result"
    }
   ],
   "source": [
    "data2"
   ]
  },
  {
   "cell_type": "code",
   "execution_count": 21,
   "metadata": {},
   "outputs": [
    {
     "data": {
      "text/plain": [
       "dict_keys(['Meta Data', 'Time Series (Daily)'])"
      ]
     },
     "execution_count": 21,
     "metadata": {},
     "output_type": "execute_result"
    }
   ],
   "source": [
    "data2.keys()"
   ]
  },
  {
   "cell_type": "code",
   "execution_count": 22,
   "metadata": {},
   "outputs": [
    {
     "data": {
      "text/plain": [
       "{'2025-02-18': {'1. open': '727.9500',\n",
       "  '2. high': '727.9500',\n",
       "  '3. low': '717.4500',\n",
       "  '4. close': '725.7500',\n",
       "  '5. volume': '396321'},\n",
       " '2025-02-17': {'1. open': '721.8500',\n",
       "  '2. high': '728.9500',\n",
       "  '3. low': '711.4000',\n",
       "  '4. close': '728.0500',\n",
       "  '5. volume': '751026'},\n",
       " '2025-02-14': {'1. open': '729.4500',\n",
       "  '2. high': '732.7000',\n",
       "  '3. low': '716.1500',\n",
       "  '4. close': '722.0000',\n",
       "  '5. volume': '895669'},\n",
       " '2025-02-13': {'1. open': '735.0000',\n",
       "  '2. high': '737.3000',\n",
       "  '3. low': '726.0500',\n",
       "  '4. close': '727.3000',\n",
       "  '5. volume': '605466'},\n",
       " '2025-02-12': {'1. open': '732.9500',\n",
       "  '2. high': '738.3000',\n",
       "  '3. low': '717.2500',\n",
       "  '4. close': '733.2500',\n",
       "  '5. volume': '550605'},\n",
       " '2025-02-11': {'1. open': '738.1500',\n",
       "  '2. high': '740.0000',\n",
       "  '3. low': '726.9000',\n",
       "  '4. close': '731.0000',\n",
       "  '5. volume': '826170'},\n",
       " '2025-02-10': {'1. open': '740.5500',\n",
       "  '2. high': '744.0500',\n",
       "  '3. low': '733.6000',\n",
       "  '4. close': '736.8500',\n",
       "  '5. volume': '788061'},\n",
       " '2025-02-07': {'1. open': '761.8000',\n",
       "  '2. high': '761.8000',\n",
       "  '3. low': '732.0500',\n",
       "  '4. close': '737.0500',\n",
       "  '5. volume': '1805880'},\n",
       " '2025-02-06': {'1. open': '769.6500',\n",
       "  '2. high': '770.9500',\n",
       "  '3. low': '750.0000',\n",
       "  '4. close': '752.3500',\n",
       "  '5. volume': '1384322'},\n",
       " '2025-02-05': {'1. open': '780.8000',\n",
       "  '2. high': '781.6000',\n",
       "  '3. low': '764.6500',\n",
       "  '4. close': '766.1000',\n",
       "  '5. volume': '654303'},\n",
       " '2025-02-04': {'1. open': '766.3000',\n",
       "  '2. high': '780.8500',\n",
       "  '3. low': '766.0000',\n",
       "  '4. close': '779.2000',\n",
       "  '5. volume': '749753'},\n",
       " '2025-02-03': {'1. open': '763.6500',\n",
       "  '2. high': '763.6500',\n",
       "  '3. low': '753.4500',\n",
       "  '4. close': '761.0000',\n",
       "  '5. volume': '427934'},\n",
       " '2025-01-31': {'1. open': '765.0000',\n",
       "  '2. high': '777.7500',\n",
       "  '3. low': '759.3500',\n",
       "  '4. close': '773.1000',\n",
       "  '5. volume': '241965'},\n",
       " '2025-01-30': {'1. open': '759.4000',\n",
       "  '2. high': '764.8500',\n",
       "  '3. low': '754.7000',\n",
       "  '4. close': '762.2000',\n",
       "  '5. volume': '618809'},\n",
       " '2025-01-29': {'1. open': '752.5000',\n",
       "  '2. high': '760.2500',\n",
       "  '3. low': '749.8000',\n",
       "  '4. close': '758.7000',\n",
       "  '5. volume': '379821'},\n",
       " '2025-01-28': {'1. open': '756.2000',\n",
       "  '2. high': '759.6000',\n",
       "  '3. low': '745.6500',\n",
       "  '4. close': '751.6500',\n",
       "  '5. volume': '794022'},\n",
       " '2025-01-27': {'1. open': '740.0000',\n",
       "  '2. high': '755.3000',\n",
       "  '3. low': '736.0000',\n",
       "  '4. close': '749.2000',\n",
       "  '5. volume': '775011'},\n",
       " '2025-01-24': {'1. open': '747.2000',\n",
       "  '2. high': '753.7500',\n",
       "  '3. low': '738.8500',\n",
       "  '4. close': '744.3500',\n",
       "  '5. volume': '458033'},\n",
       " '2025-01-23': {'1. open': '751.9500',\n",
       "  '2. high': '755.8000',\n",
       "  '3. low': '743.3000',\n",
       "  '4. close': '745.9500',\n",
       "  '5. volume': '235130'},\n",
       " '2025-01-22': {'1. open': '762.8500',\n",
       "  '2. high': '762.8500',\n",
       "  '3. low': '738.3000',\n",
       "  '4. close': '753.2500',\n",
       "  '5. volume': '237866'},\n",
       " '2025-01-21': {'1. open': '784.9500',\n",
       "  '2. high': '785.3000',\n",
       "  '3. low': '756.2500',\n",
       "  '4. close': '759.0000',\n",
       "  '5. volume': '953600'},\n",
       " '2025-01-20': {'1. open': '765.0500',\n",
       "  '2. high': '784.9500',\n",
       "  '3. low': '765.0500',\n",
       "  '4. close': '779.0500',\n",
       "  '5. volume': '559123'},\n",
       " '2025-01-17': {'1. open': '766.9000',\n",
       "  '2. high': '767.8500',\n",
       "  '3. low': '759.4500',\n",
       "  '4. close': '764.1000',\n",
       "  '5. volume': '497950'},\n",
       " '2025-01-16': {'1. open': '761.6500',\n",
       "  '2. high': '776.5500',\n",
       "  '3. low': '760.0500',\n",
       "  '4. close': '766.4000',\n",
       "  '5. volume': '511761'},\n",
       " '2025-01-15': {'1. open': '753.7000',\n",
       "  '2. high': '758.8500',\n",
       "  '3. low': '750.3500',\n",
       "  '4. close': '754.0000',\n",
       "  '5. volume': '171791'},\n",
       " '2025-01-14': {'1. open': '730.6000',\n",
       "  '2. high': '756.9000',\n",
       "  '3. low': '730.6000',\n",
       "  '4. close': '748.1000',\n",
       "  '5. volume': '687121'},\n",
       " '2025-01-13': {'1. open': '742.9500',\n",
       "  '2. high': '743.8500',\n",
       "  '3. low': '722.5000',\n",
       "  '4. close': '729.6000',\n",
       "  '5. volume': '300275'},\n",
       " '2025-01-10': {'1. open': '760.3500',\n",
       "  '2. high': '760.8000',\n",
       "  '3. low': '742.0000',\n",
       "  '4. close': '743.1500',\n",
       "  '5. volume': '454472'},\n",
       " '2025-01-09': {'1. open': '771.9500',\n",
       "  '2. high': '771.9500',\n",
       "  '3. low': '726.9000',\n",
       "  '4. close': '760.3500',\n",
       "  '5. volume': '803943'},\n",
       " '2025-01-08': {'1. open': '781.0000',\n",
       "  '2. high': '782.5000',\n",
       "  '3. low': '760.1000',\n",
       "  '4. close': '771.2000',\n",
       "  '5. volume': '1224097'},\n",
       " '2025-01-07': {'1. open': '778.0500',\n",
       "  '2. high': '783.7500',\n",
       "  '3. low': '775.1000',\n",
       "  '4. close': '779.0000',\n",
       "  '5. volume': '563547'},\n",
       " '2025-01-06': {'1. open': '798.0000',\n",
       "  '2. high': '798.0000',\n",
       "  '3. low': '773.3000',\n",
       "  '4. close': '776.7500',\n",
       "  '5. volume': '624836'},\n",
       " '2025-01-03': {'1. open': '801.9000',\n",
       "  '2. high': '809.7000',\n",
       "  '3. low': '792.2500',\n",
       "  '4. close': '793.5000',\n",
       "  '5. volume': '387698'},\n",
       " '2025-01-02': {'1. open': '795.0000',\n",
       "  '2. high': '802.4000',\n",
       "  '3. low': '786.3000',\n",
       "  '4. close': '801.0500',\n",
       "  '5. volume': '711599'},\n",
       " '2025-01-01': {'1. open': '796.8500',\n",
       "  '2. high': '798.5000',\n",
       "  '3. low': '789.6000',\n",
       "  '4. close': '793.3500',\n",
       "  '5. volume': '356031'},\n",
       " '2024-12-31': {'1. open': '788.7500',\n",
       "  '2. high': '798.9500',\n",
       "  '3. low': '787.0000',\n",
       "  '4. close': '795.0500',\n",
       "  '5. volume': '283620'},\n",
       " '2024-12-30': {'1. open': '802.7000',\n",
       "  '2. high': '808.0000',\n",
       "  '3. low': '785.2000',\n",
       "  '4. close': '788.3000',\n",
       "  '5. volume': '686161'},\n",
       " '2024-12-27': {'1. open': '817.2500',\n",
       "  '2. high': '818.7500',\n",
       "  '3. low': '797.2500',\n",
       "  '4. close': '799.5500',\n",
       "  '5. volume': '1061163'},\n",
       " '2024-12-26': {'1. open': '813.0000',\n",
       "  '2. high': '822.9500',\n",
       "  '3. low': '808.0000',\n",
       "  '4. close': '811.6500',\n",
       "  '5. volume': '194920'},\n",
       " '2024-12-24': {'1. open': '825.0000',\n",
       "  '2. high': '825.5500',\n",
       "  '3. low': '809.2000',\n",
       "  '4. close': '811.8500',\n",
       "  '5. volume': '431577'},\n",
       " '2024-12-23': {'1. open': '818.3500',\n",
       "  '2. high': '823.9000',\n",
       "  '3. low': '812.4000',\n",
       "  '4. close': '820.9500',\n",
       "  '5. volume': '281649'},\n",
       " '2024-12-20': {'1. open': '833.8000',\n",
       "  '2. high': '836.4000',\n",
       "  '3. low': '810.0000',\n",
       "  '4. close': '812.5000',\n",
       "  '5. volume': '467910'},\n",
       " '2024-12-19': {'1. open': '822.0500',\n",
       "  '2. high': '837.9000',\n",
       "  '3. low': '820.1000',\n",
       "  '4. close': '832.8000',\n",
       "  '5. volume': '309033'},\n",
       " '2024-12-18': {'1. open': '850.2000',\n",
       "  '2. high': '850.8000',\n",
       "  '3. low': '836.7000',\n",
       "  '4. close': '839.0500',\n",
       "  '5. volume': '172425'},\n",
       " '2024-12-17': {'1. open': '859.7500',\n",
       "  '2. high': '862.9500',\n",
       "  '3. low': '847.1500',\n",
       "  '4. close': '850.2000',\n",
       "  '5. volume': '143409'},\n",
       " '2024-12-16': {'1. open': '859.0000',\n",
       "  '2. high': '866.2000',\n",
       "  '3. low': '857.8000',\n",
       "  '4. close': '860.7000',\n",
       "  '5. volume': '252691'},\n",
       " '2024-12-13': {'1. open': '853.7000',\n",
       "  '2. high': '863.0000',\n",
       "  '3. low': '835.0000',\n",
       "  '4. close': '861.7000',\n",
       "  '5. volume': '455324'},\n",
       " '2024-12-12': {'1. open': '862.5000',\n",
       "  '2. high': '864.2000',\n",
       "  '3. low': '851.2500',\n",
       "  '4. close': '853.7500',\n",
       "  '5. volume': '179011'},\n",
       " '2024-12-11': {'1. open': '865.7500',\n",
       "  '2. high': '869.7500',\n",
       "  '3. low': '860.8000',\n",
       "  '4. close': '861.5500',\n",
       "  '5. volume': '342069'},\n",
       " '2024-12-10': {'1. open': '862.0000',\n",
       "  '2. high': '868.8500',\n",
       "  '3. low': '858.5000',\n",
       "  '4. close': '867.6000',\n",
       "  '5. volume': '197287'},\n",
       " '2024-12-09': {'1. open': '862.9500',\n",
       "  '2. high': '866.8000',\n",
       "  '3. low': '856.7500',\n",
       "  '4. close': '857.8500',\n",
       "  '5. volume': '646144'},\n",
       " '2024-12-06': {'1. open': '866.9500',\n",
       "  '2. high': '875.5000',\n",
       "  '3. low': '856.8500',\n",
       "  '4. close': '864.0000',\n",
       "  '5. volume': '431320'},\n",
       " '2024-12-05': {'1. open': '861.6500',\n",
       "  '2. high': '871.0000',\n",
       "  '3. low': '855.6500',\n",
       "  '4. close': '864.8500',\n",
       "  '5. volume': '379508'},\n",
       " '2024-12-04': {'1. open': '854.4000',\n",
       "  '2. high': '863.8000',\n",
       "  '3. low': '850.2500',\n",
       "  '4. close': '859.4500',\n",
       "  '5. volume': '679548'},\n",
       " '2024-12-03': {'1. open': '836.4500',\n",
       "  '2. high': '856.6000',\n",
       "  '3. low': '836.4500',\n",
       "  '4. close': '853.9500',\n",
       "  '5. volume': '370485'},\n",
       " '2024-12-02': {'1. open': '836.2000',\n",
       "  '2. high': '842.0000',\n",
       "  '3. low': '832.8000',\n",
       "  '4. close': '836.2000',\n",
       "  '5. volume': '526054'},\n",
       " '2024-11-29': {'1. open': '842.0000',\n",
       "  '2. high': '843.8500',\n",
       "  '3. low': '831.5000',\n",
       "  '4. close': '839.0000',\n",
       "  '5. volume': '757635'},\n",
       " '2024-11-28': {'1. open': '834.9500',\n",
       "  '2. high': '845.7000',\n",
       "  '3. low': '830.3500',\n",
       "  '4. close': '838.7500',\n",
       "  '5. volume': '811586'},\n",
       " '2024-11-27': {'1. open': '839.3000',\n",
       "  '2. high': '842.1500',\n",
       "  '3. low': '832.0000',\n",
       "  '4. close': '834.2000',\n",
       "  '5. volume': '502957'},\n",
       " '2024-11-26': {'1. open': '844.7500',\n",
       "  '2. high': '846.7000',\n",
       "  '3. low': '835.2000',\n",
       "  '4. close': '839.3500',\n",
       "  '5. volume': '448647'},\n",
       " '2024-11-25': {'1. open': '826.2500',\n",
       "  '2. high': '849.3000',\n",
       "  '3. low': '825.9500',\n",
       "  '4. close': '844.7500',\n",
       "  '5. volume': '1612713'},\n",
       " '2024-11-22': {'1. open': '785.6500',\n",
       "  '2. high': '819.7500',\n",
       "  '3. low': '784.3000',\n",
       "  '4. close': '816.0500',\n",
       "  '5. volume': '1534393'},\n",
       " '2024-11-21': {'1. open': '800.0000',\n",
       "  '2. high': '800.0000',\n",
       "  '3. low': '761.6500',\n",
       "  '4. close': '780.8500',\n",
       "  '5. volume': '804079'},\n",
       " '2024-11-19': {'1. open': '817.5500',\n",
       "  '2. high': '820.1000',\n",
       "  '3. low': '800.1000',\n",
       "  '4. close': '802.0000',\n",
       "  '5. volume': '467072'},\n",
       " '2024-11-18': {'1. open': '810.0500',\n",
       "  '2. high': '816.6500',\n",
       "  '3. low': '799.2000',\n",
       "  '4. close': '813.7000',\n",
       "  '5. volume': '378989'},\n",
       " '2024-11-14': {'1. open': '809.9500',\n",
       "  '2. high': '817.8500',\n",
       "  '3. low': '801.1000',\n",
       "  '4. close': '804.0500',\n",
       "  '5. volume': '720597'},\n",
       " '2024-11-13': {'1. open': '822.5000',\n",
       "  '2. high': '831.6500',\n",
       "  '3. low': '804.4500',\n",
       "  '4. close': '808.3500',\n",
       "  '5. volume': '454522'},\n",
       " '2024-11-12': {'1. open': '851.0000',\n",
       "  '2. high': '853.0000',\n",
       "  '3. low': '824.1000',\n",
       "  '4. close': '826.4000',\n",
       "  '5. volume': '467134'},\n",
       " '2024-11-11': {'1. open': '847.0000',\n",
       "  '2. high': '853.6500',\n",
       "  '3. low': '841.4500',\n",
       "  '4. close': '847.8000',\n",
       "  '5. volume': '1417460'},\n",
       " '2024-11-08': {'1. open': '860.0000',\n",
       "  '2. high': '863.6500',\n",
       "  '3. low': '834.3000',\n",
       "  '4. close': '843.2500',\n",
       "  '5. volume': '1106664'},\n",
       " '2024-11-07': {'1. open': '860.0500',\n",
       "  '2. high': '862.4500',\n",
       "  '3. low': '846.7000',\n",
       "  '4. close': '859.2500',\n",
       "  '5. volume': '494821'},\n",
       " '2024-11-06': {'1. open': '850.0000',\n",
       "  '2. high': '861.0000',\n",
       "  '3. low': '846.2000',\n",
       "  '4. close': '854.7500',\n",
       "  '5. volume': '896339'},\n",
       " '2024-11-05': {'1. open': '829.0000',\n",
       "  '2. high': '851.2000',\n",
       "  '3. low': '826.1000',\n",
       "  '4. close': '849.2000',\n",
       "  '5. volume': '1335383'},\n",
       " '2024-11-04': {'1. open': '822.6500',\n",
       "  '2. high': '837.5000',\n",
       "  '3. low': '807.0500',\n",
       "  '4. close': '829.8500',\n",
       "  '5. volume': '458939'},\n",
       " '2024-10-31': {'1. open': '821.9500',\n",
       "  '2. high': '828.0000',\n",
       "  '3. low': '813.4500',\n",
       "  '4. close': '820.5000',\n",
       "  '5. volume': '497763'},\n",
       " '2024-10-30': {'1. open': '830.0000',\n",
       "  '2. high': '832.9000',\n",
       "  '3. low': '821.0500',\n",
       "  '4. close': '822.4000',\n",
       "  '5. volume': '322347'},\n",
       " '2024-10-29': {'1. open': '796.5000',\n",
       "  '2. high': '834.5000',\n",
       "  '3. low': '790.5000',\n",
       "  '4. close': '832.6500',\n",
       "  '5. volume': '1593501'},\n",
       " '2024-10-28': {'1. open': '783.2000',\n",
       "  '2. high': '803.9500',\n",
       "  '3. low': '783.2000',\n",
       "  '4. close': '792.0500',\n",
       "  '5. volume': '675658'},\n",
       " '2024-10-25': {'1. open': '798.4500',\n",
       "  '2. high': '800.0000',\n",
       "  '3. low': '772.0500',\n",
       "  '4. close': '780.6000',\n",
       "  '5. volume': '650630'},\n",
       " '2024-10-24': {'1. open': '786.0500',\n",
       "  '2. high': '796.8000',\n",
       "  '3. low': '784.5000',\n",
       "  '4. close': '794.7000',\n",
       "  '5. volume': '183971'},\n",
       " '2024-10-23': {'1. open': '790.0000',\n",
       "  '2. high': '792.5000',\n",
       "  '3. low': '779.6000',\n",
       "  '4. close': '785.9500',\n",
       "  '5. volume': '467975'},\n",
       " '2024-10-22': {'1. open': '814.1500',\n",
       "  '2. high': '816.3500',\n",
       "  '3. low': '787.6000',\n",
       "  '4. close': '790.4500',\n",
       "  '5. volume': '604778'},\n",
       " '2024-10-21': {'1. open': '822.0500',\n",
       "  '2. high': '826.3500',\n",
       "  '3. low': '809.1000',\n",
       "  '4. close': '814.1500',\n",
       "  '5. volume': '584223'},\n",
       " '2024-10-18': {'1. open': '811.0000',\n",
       "  '2. high': '822.4000',\n",
       "  '3. low': '803.1000',\n",
       "  '4. close': '819.9500',\n",
       "  '5. volume': '429099'},\n",
       " '2024-10-17': {'1. open': '806.0500',\n",
       "  '2. high': '819.2500',\n",
       "  '3. low': '806.0500',\n",
       "  '4. close': '810.9000',\n",
       "  '5. volume': '948591'},\n",
       " '2024-10-16': {'1. open': '801.0500',\n",
       "  '2. high': '808.9000',\n",
       "  '3. low': '801.0500',\n",
       "  '4. close': '805.8500',\n",
       "  '5. volume': '142406'},\n",
       " '2024-10-15': {'1. open': '805.0000',\n",
       "  '2. high': '807.6000',\n",
       "  '3. low': '801.5000',\n",
       "  '4. close': '804.6000',\n",
       "  '5. volume': '314354'},\n",
       " '2024-10-14': {'1. open': '800.1500',\n",
       "  '2. high': '809.0000',\n",
       "  '3. low': '800.1500',\n",
       "  '4. close': '805.2500',\n",
       "  '5. volume': '755286'},\n",
       " '2024-10-11': {'1. open': '797.0000',\n",
       "  '2. high': '802.5000',\n",
       "  '3. low': '793.0000',\n",
       "  '4. close': '800.0000',\n",
       "  '5. volume': '381115'},\n",
       " '2024-10-10': {'1. open': '799.9000',\n",
       "  '2. high': '804.3500',\n",
       "  '3. low': '795.0500',\n",
       "  '4. close': '796.9500',\n",
       "  '5. volume': '163966'},\n",
       " '2024-10-09': {'1. open': '787.9500',\n",
       "  '2. high': '805.0000',\n",
       "  '3. low': '782.5500',\n",
       "  '4. close': '797.0000',\n",
       "  '5. volume': '807499'},\n",
       " '2024-10-08': {'1. open': '771.1000',\n",
       "  '2. high': '784.5000',\n",
       "  '3. low': '771.1000',\n",
       "  '4. close': '782.0500',\n",
       "  '5. volume': '295906'},\n",
       " '2024-10-07': {'1. open': '797.0500',\n",
       "  '2. high': '803.9000',\n",
       "  '3. low': '765.5500',\n",
       "  '4. close': '769.8000',\n",
       "  '5. volume': '1587972'},\n",
       " '2024-10-04': {'1. open': '790.3000',\n",
       "  '2. high': '809.6500',\n",
       "  '3. low': '785.2000',\n",
       "  '4. close': '796.6000',\n",
       "  '5. volume': '1154183'},\n",
       " '2024-10-03': {'1. open': '787.4000',\n",
       "  '2. high': '803.9500',\n",
       "  '3. low': '784.3500',\n",
       "  '4. close': '794.3500',\n",
       "  '5. volume': '768391'},\n",
       " '2024-10-01': {'1. open': '788.9500',\n",
       "  '2. high': '799.7500',\n",
       "  '3. low': '788.2500',\n",
       "  '4. close': '797.0000',\n",
       "  '5. volume': '227883'},\n",
       " '2024-09-30': {'1. open': '801.1500',\n",
       "  '2. high': '802.5000',\n",
       "  '3. low': '786.1500',\n",
       "  '4. close': '787.6000',\n",
       "  '5. volume': '1054719'},\n",
       " '2024-09-27': {'1. open': '802.0000',\n",
       "  '2. high': '807.8500',\n",
       "  '3. low': '798.4000',\n",
       "  '4. close': '802.6500',\n",
       "  '5. volume': '669965'},\n",
       " '2024-09-26': {'1. open': '795.1500',\n",
       "  '2. high': '803.0000',\n",
       "  '3. low': '791.5500',\n",
       "  '4. close': '801.9000',\n",
       "  '5. volume': '432917'},\n",
       " '2024-09-25': {'1. open': '798.2500',\n",
       "  '2. high': '798.2500',\n",
       "  '3. low': '788.6500',\n",
       "  '4. close': '792.9500',\n",
       "  '5. volume': '524539'}}"
      ]
     },
     "execution_count": 22,
     "metadata": {},
     "output_type": "execute_result"
    }
   ],
   "source": [
    "daily = data2[\"Time Series (Daily)\"]\n",
    "daily"
   ]
  },
  {
   "cell_type": "code",
   "execution_count": 23,
   "metadata": {},
   "outputs": [
    {
     "data": {
      "text/html": [
       "<div>\n",
       "<style scoped>\n",
       "    .dataframe tbody tr th:only-of-type {\n",
       "        vertical-align: middle;\n",
       "    }\n",
       "\n",
       "    .dataframe tbody tr th {\n",
       "        vertical-align: top;\n",
       "    }\n",
       "\n",
       "    .dataframe thead th {\n",
       "        text-align: right;\n",
       "    }\n",
       "</style>\n",
       "<table border=\"1\" class=\"dataframe\">\n",
       "  <thead>\n",
       "    <tr style=\"text-align: right;\">\n",
       "      <th></th>\n",
       "      <th>1. open</th>\n",
       "      <th>2. high</th>\n",
       "      <th>3. low</th>\n",
       "      <th>4. close</th>\n",
       "      <th>5. volume</th>\n",
       "    </tr>\n",
       "  </thead>\n",
       "  <tbody>\n",
       "    <tr>\n",
       "      <th>2025-02-18</th>\n",
       "      <td>727.9500</td>\n",
       "      <td>727.9500</td>\n",
       "      <td>717.4500</td>\n",
       "      <td>725.7500</td>\n",
       "      <td>396321</td>\n",
       "    </tr>\n",
       "    <tr>\n",
       "      <th>2025-02-17</th>\n",
       "      <td>721.8500</td>\n",
       "      <td>728.9500</td>\n",
       "      <td>711.4000</td>\n",
       "      <td>728.0500</td>\n",
       "      <td>751026</td>\n",
       "    </tr>\n",
       "    <tr>\n",
       "      <th>2025-02-14</th>\n",
       "      <td>729.4500</td>\n",
       "      <td>732.7000</td>\n",
       "      <td>716.1500</td>\n",
       "      <td>722.0000</td>\n",
       "      <td>895669</td>\n",
       "    </tr>\n",
       "    <tr>\n",
       "      <th>2025-02-13</th>\n",
       "      <td>735.0000</td>\n",
       "      <td>737.3000</td>\n",
       "      <td>726.0500</td>\n",
       "      <td>727.3000</td>\n",
       "      <td>605466</td>\n",
       "    </tr>\n",
       "    <tr>\n",
       "      <th>2025-02-12</th>\n",
       "      <td>732.9500</td>\n",
       "      <td>738.3000</td>\n",
       "      <td>717.2500</td>\n",
       "      <td>733.2500</td>\n",
       "      <td>550605</td>\n",
       "    </tr>\n",
       "    <tr>\n",
       "      <th>...</th>\n",
       "      <td>...</td>\n",
       "      <td>...</td>\n",
       "      <td>...</td>\n",
       "      <td>...</td>\n",
       "      <td>...</td>\n",
       "    </tr>\n",
       "    <tr>\n",
       "      <th>2024-10-01</th>\n",
       "      <td>788.9500</td>\n",
       "      <td>799.7500</td>\n",
       "      <td>788.2500</td>\n",
       "      <td>797.0000</td>\n",
       "      <td>227883</td>\n",
       "    </tr>\n",
       "    <tr>\n",
       "      <th>2024-09-30</th>\n",
       "      <td>801.1500</td>\n",
       "      <td>802.5000</td>\n",
       "      <td>786.1500</td>\n",
       "      <td>787.6000</td>\n",
       "      <td>1054719</td>\n",
       "    </tr>\n",
       "    <tr>\n",
       "      <th>2024-09-27</th>\n",
       "      <td>802.0000</td>\n",
       "      <td>807.8500</td>\n",
       "      <td>798.4000</td>\n",
       "      <td>802.6500</td>\n",
       "      <td>669965</td>\n",
       "    </tr>\n",
       "    <tr>\n",
       "      <th>2024-09-26</th>\n",
       "      <td>795.1500</td>\n",
       "      <td>803.0000</td>\n",
       "      <td>791.5500</td>\n",
       "      <td>801.9000</td>\n",
       "      <td>432917</td>\n",
       "    </tr>\n",
       "    <tr>\n",
       "      <th>2024-09-25</th>\n",
       "      <td>798.2500</td>\n",
       "      <td>798.2500</td>\n",
       "      <td>788.6500</td>\n",
       "      <td>792.9500</td>\n",
       "      <td>524539</td>\n",
       "    </tr>\n",
       "  </tbody>\n",
       "</table>\n",
       "<p>100 rows × 5 columns</p>\n",
       "</div>"
      ],
      "text/plain": [
       "             1. open   2. high    3. low  4. close 5. volume\n",
       "2025-02-18  727.9500  727.9500  717.4500  725.7500    396321\n",
       "2025-02-17  721.8500  728.9500  711.4000  728.0500    751026\n",
       "2025-02-14  729.4500  732.7000  716.1500  722.0000    895669\n",
       "2025-02-13  735.0000  737.3000  726.0500  727.3000    605466\n",
       "2025-02-12  732.9500  738.3000  717.2500  733.2500    550605\n",
       "...              ...       ...       ...       ...       ...\n",
       "2024-10-01  788.9500  799.7500  788.2500  797.0000    227883\n",
       "2024-09-30  801.1500  802.5000  786.1500  787.6000   1054719\n",
       "2024-09-27  802.0000  807.8500  798.4000  802.6500    669965\n",
       "2024-09-26  795.1500  803.0000  791.5500  801.9000    432917\n",
       "2024-09-25  798.2500  798.2500  788.6500  792.9500    524539\n",
       "\n",
       "[100 rows x 5 columns]"
      ]
     },
     "execution_count": 23,
     "metadata": {},
     "output_type": "execute_result"
    }
   ],
   "source": [
    "import pandas as pd\n",
    "df = pd.DataFrame(daily).T\n",
    "df"
   ]
  },
  {
   "cell_type": "code",
   "execution_count": 24,
   "metadata": {},
   "outputs": [
    {
     "data": {
      "text/plain": [
       "Index(['2025-02-18', '2025-02-17', '2025-02-14', '2025-02-13', '2025-02-12',\n",
       "       '2025-02-11', '2025-02-10', '2025-02-07', '2025-02-06', '2025-02-05',\n",
       "       '2025-02-04', '2025-02-03', '2025-01-31', '2025-01-30', '2025-01-29',\n",
       "       '2025-01-28', '2025-01-27', '2025-01-24', '2025-01-23', '2025-01-22',\n",
       "       '2025-01-21', '2025-01-20', '2025-01-17', '2025-01-16', '2025-01-15',\n",
       "       '2025-01-14', '2025-01-13', '2025-01-10', '2025-01-09', '2025-01-08',\n",
       "       '2025-01-07', '2025-01-06', '2025-01-03', '2025-01-02', '2025-01-01',\n",
       "       '2024-12-31', '2024-12-30', '2024-12-27', '2024-12-26', '2024-12-24',\n",
       "       '2024-12-23', '2024-12-20', '2024-12-19', '2024-12-18', '2024-12-17',\n",
       "       '2024-12-16', '2024-12-13', '2024-12-12', '2024-12-11', '2024-12-10',\n",
       "       '2024-12-09', '2024-12-06', '2024-12-05', '2024-12-04', '2024-12-03',\n",
       "       '2024-12-02', '2024-11-29', '2024-11-28', '2024-11-27', '2024-11-26',\n",
       "       '2024-11-25', '2024-11-22', '2024-11-21', '2024-11-19', '2024-11-18',\n",
       "       '2024-11-14', '2024-11-13', '2024-11-12', '2024-11-11', '2024-11-08',\n",
       "       '2024-11-07', '2024-11-06', '2024-11-05', '2024-11-04', '2024-10-31',\n",
       "       '2024-10-30', '2024-10-29', '2024-10-28', '2024-10-25', '2024-10-24',\n",
       "       '2024-10-23', '2024-10-22', '2024-10-21', '2024-10-18', '2024-10-17',\n",
       "       '2024-10-16', '2024-10-15', '2024-10-14', '2024-10-11', '2024-10-10',\n",
       "       '2024-10-09', '2024-10-08', '2024-10-07', '2024-10-04', '2024-10-03',\n",
       "       '2024-10-01', '2024-09-30', '2024-09-27', '2024-09-26', '2024-09-25'],\n",
       "      dtype='object')"
      ]
     },
     "execution_count": 24,
     "metadata": {},
     "output_type": "execute_result"
    }
   ],
   "source": [
    "df.index"
   ]
  },
  {
   "cell_type": "code",
   "execution_count": 25,
   "metadata": {},
   "outputs": [],
   "source": [
    "df.index = pd.to_datetime(df.index)"
   ]
  },
  {
   "cell_type": "code",
   "execution_count": 26,
   "metadata": {},
   "outputs": [
    {
     "data": {
      "text/plain": [
       "DatetimeIndex(['2025-02-18', '2025-02-17', '2025-02-14', '2025-02-13',\n",
       "               '2025-02-12', '2025-02-11', '2025-02-10', '2025-02-07',\n",
       "               '2025-02-06', '2025-02-05', '2025-02-04', '2025-02-03',\n",
       "               '2025-01-31', '2025-01-30', '2025-01-29', '2025-01-28',\n",
       "               '2025-01-27', '2025-01-24', '2025-01-23', '2025-01-22',\n",
       "               '2025-01-21', '2025-01-20', '2025-01-17', '2025-01-16',\n",
       "               '2025-01-15', '2025-01-14', '2025-01-13', '2025-01-10',\n",
       "               '2025-01-09', '2025-01-08', '2025-01-07', '2025-01-06',\n",
       "               '2025-01-03', '2025-01-02', '2025-01-01', '2024-12-31',\n",
       "               '2024-12-30', '2024-12-27', '2024-12-26', '2024-12-24',\n",
       "               '2024-12-23', '2024-12-20', '2024-12-19', '2024-12-18',\n",
       "               '2024-12-17', '2024-12-16', '2024-12-13', '2024-12-12',\n",
       "               '2024-12-11', '2024-12-10', '2024-12-09', '2024-12-06',\n",
       "               '2024-12-05', '2024-12-04', '2024-12-03', '2024-12-02',\n",
       "               '2024-11-29', '2024-11-28', '2024-11-27', '2024-11-26',\n",
       "               '2024-11-25', '2024-11-22', '2024-11-21', '2024-11-19',\n",
       "               '2024-11-18', '2024-11-14', '2024-11-13', '2024-11-12',\n",
       "               '2024-11-11', '2024-11-08', '2024-11-07', '2024-11-06',\n",
       "               '2024-11-05', '2024-11-04', '2024-10-31', '2024-10-30',\n",
       "               '2024-10-29', '2024-10-28', '2024-10-25', '2024-10-24',\n",
       "               '2024-10-23', '2024-10-22', '2024-10-21', '2024-10-18',\n",
       "               '2024-10-17', '2024-10-16', '2024-10-15', '2024-10-14',\n",
       "               '2024-10-11', '2024-10-10', '2024-10-09', '2024-10-08',\n",
       "               '2024-10-07', '2024-10-04', '2024-10-03', '2024-10-01',\n",
       "               '2024-09-30', '2024-09-27', '2024-09-26', '2024-09-25'],\n",
       "              dtype='datetime64[ns]', freq=None)"
      ]
     },
     "execution_count": 26,
     "metadata": {},
     "output_type": "execute_result"
    }
   ],
   "source": [
    "df.index"
   ]
  },
  {
   "cell_type": "code",
   "execution_count": 27,
   "metadata": {},
   "outputs": [
    {
     "data": {
      "text/plain": [
       "1. open      object\n",
       "2. high      object\n",
       "3. low       object\n",
       "4. close     object\n",
       "5. volume    object\n",
       "dtype: object"
      ]
     },
     "execution_count": 27,
     "metadata": {},
     "output_type": "execute_result"
    }
   ],
   "source": [
    "df.dtypes"
   ]
  },
  {
   "cell_type": "code",
   "execution_count": 28,
   "metadata": {},
   "outputs": [],
   "source": [
    "df = df.astype(float)"
   ]
  },
  {
   "cell_type": "code",
   "execution_count": 29,
   "metadata": {},
   "outputs": [
    {
     "data": {
      "text/html": [
       "<div>\n",
       "<style scoped>\n",
       "    .dataframe tbody tr th:only-of-type {\n",
       "        vertical-align: middle;\n",
       "    }\n",
       "\n",
       "    .dataframe tbody tr th {\n",
       "        vertical-align: top;\n",
       "    }\n",
       "\n",
       "    .dataframe thead th {\n",
       "        text-align: right;\n",
       "    }\n",
       "</style>\n",
       "<table border=\"1\" class=\"dataframe\">\n",
       "  <thead>\n",
       "    <tr style=\"text-align: right;\">\n",
       "      <th></th>\n",
       "      <th>1. open</th>\n",
       "      <th>2. high</th>\n",
       "      <th>3. low</th>\n",
       "      <th>4. close</th>\n",
       "      <th>5. volume</th>\n",
       "    </tr>\n",
       "  </thead>\n",
       "  <tbody>\n",
       "    <tr>\n",
       "      <th>2025-02-18</th>\n",
       "      <td>727.95</td>\n",
       "      <td>727.95</td>\n",
       "      <td>717.45</td>\n",
       "      <td>725.75</td>\n",
       "      <td>396321.0</td>\n",
       "    </tr>\n",
       "    <tr>\n",
       "      <th>2025-02-17</th>\n",
       "      <td>721.85</td>\n",
       "      <td>728.95</td>\n",
       "      <td>711.40</td>\n",
       "      <td>728.05</td>\n",
       "      <td>751026.0</td>\n",
       "    </tr>\n",
       "    <tr>\n",
       "      <th>2025-02-14</th>\n",
       "      <td>729.45</td>\n",
       "      <td>732.70</td>\n",
       "      <td>716.15</td>\n",
       "      <td>722.00</td>\n",
       "      <td>895669.0</td>\n",
       "    </tr>\n",
       "    <tr>\n",
       "      <th>2025-02-13</th>\n",
       "      <td>735.00</td>\n",
       "      <td>737.30</td>\n",
       "      <td>726.05</td>\n",
       "      <td>727.30</td>\n",
       "      <td>605466.0</td>\n",
       "    </tr>\n",
       "    <tr>\n",
       "      <th>2025-02-12</th>\n",
       "      <td>732.95</td>\n",
       "      <td>738.30</td>\n",
       "      <td>717.25</td>\n",
       "      <td>733.25</td>\n",
       "      <td>550605.0</td>\n",
       "    </tr>\n",
       "  </tbody>\n",
       "</table>\n",
       "</div>"
      ],
      "text/plain": [
       "            1. open  2. high  3. low  4. close  5. volume\n",
       "2025-02-18   727.95   727.95  717.45    725.75   396321.0\n",
       "2025-02-17   721.85   728.95  711.40    728.05   751026.0\n",
       "2025-02-14   729.45   732.70  716.15    722.00   895669.0\n",
       "2025-02-13   735.00   737.30  726.05    727.30   605466.0\n",
       "2025-02-12   732.95   738.30  717.25    733.25   550605.0"
      ]
     },
     "execution_count": 29,
     "metadata": {},
     "output_type": "execute_result"
    }
   ],
   "source": [
    "df.head()"
   ]
  },
  {
   "cell_type": "code",
   "execution_count": 30,
   "metadata": {},
   "outputs": [
    {
     "data": {
      "text/html": [
       "<div>\n",
       "<style scoped>\n",
       "    .dataframe tbody tr th:only-of-type {\n",
       "        vertical-align: middle;\n",
       "    }\n",
       "\n",
       "    .dataframe tbody tr th {\n",
       "        vertical-align: top;\n",
       "    }\n",
       "\n",
       "    .dataframe thead th {\n",
       "        text-align: right;\n",
       "    }\n",
       "</style>\n",
       "<table border=\"1\" class=\"dataframe\">\n",
       "  <thead>\n",
       "    <tr style=\"text-align: right;\">\n",
       "      <th></th>\n",
       "      <th>1. open</th>\n",
       "      <th>2. high</th>\n",
       "      <th>3. low</th>\n",
       "      <th>4. close</th>\n",
       "      <th>5. volume</th>\n",
       "    </tr>\n",
       "  </thead>\n",
       "  <tbody>\n",
       "    <tr>\n",
       "      <th>2025-02-18</th>\n",
       "      <td>727.95</td>\n",
       "      <td>727.95</td>\n",
       "      <td>717.45</td>\n",
       "      <td>725.75</td>\n",
       "      <td>396321.0</td>\n",
       "    </tr>\n",
       "    <tr>\n",
       "      <th>2025-02-17</th>\n",
       "      <td>721.85</td>\n",
       "      <td>728.95</td>\n",
       "      <td>711.40</td>\n",
       "      <td>728.05</td>\n",
       "      <td>751026.0</td>\n",
       "    </tr>\n",
       "    <tr>\n",
       "      <th>2025-02-14</th>\n",
       "      <td>729.45</td>\n",
       "      <td>732.70</td>\n",
       "      <td>716.15</td>\n",
       "      <td>722.00</td>\n",
       "      <td>895669.0</td>\n",
       "    </tr>\n",
       "    <tr>\n",
       "      <th>2025-02-13</th>\n",
       "      <td>735.00</td>\n",
       "      <td>737.30</td>\n",
       "      <td>726.05</td>\n",
       "      <td>727.30</td>\n",
       "      <td>605466.0</td>\n",
       "    </tr>\n",
       "    <tr>\n",
       "      <th>2025-02-12</th>\n",
       "      <td>732.95</td>\n",
       "      <td>738.30</td>\n",
       "      <td>717.25</td>\n",
       "      <td>733.25</td>\n",
       "      <td>550605.0</td>\n",
       "    </tr>\n",
       "  </tbody>\n",
       "</table>\n",
       "</div>"
      ],
      "text/plain": [
       "            1. open  2. high  3. low  4. close  5. volume\n",
       "2025-02-18   727.95   727.95  717.45    725.75   396321.0\n",
       "2025-02-17   721.85   728.95  711.40    728.05   751026.0\n",
       "2025-02-14   729.45   732.70  716.15    722.00   895669.0\n",
       "2025-02-13   735.00   737.30  726.05    727.30   605466.0\n",
       "2025-02-12   732.95   738.30  717.25    733.25   550605.0"
      ]
     },
     "execution_count": 30,
     "metadata": {},
     "output_type": "execute_result"
    }
   ],
   "source": [
    "df.head()"
   ]
  },
  {
   "cell_type": "code",
   "execution_count": 31,
   "metadata": {},
   "outputs": [
    {
     "data": {
      "text/plain": [
       "1. open      float64\n",
       "2. high      float64\n",
       "3. low       float64\n",
       "4. close     float64\n",
       "5. volume    float64\n",
       "dtype: object"
      ]
     },
     "execution_count": 31,
     "metadata": {},
     "output_type": "execute_result"
    }
   ],
   "source": [
    "df.dtypes"
   ]
  },
  {
   "cell_type": "code",
   "execution_count": 32,
   "metadata": {},
   "outputs": [],
   "source": [
    "df.index.name = \"Data\""
   ]
  },
  {
   "cell_type": "code",
   "execution_count": 33,
   "metadata": {},
   "outputs": [
    {
     "data": {
      "text/html": [
       "<div>\n",
       "<style scoped>\n",
       "    .dataframe tbody tr th:only-of-type {\n",
       "        vertical-align: middle;\n",
       "    }\n",
       "\n",
       "    .dataframe tbody tr th {\n",
       "        vertical-align: top;\n",
       "    }\n",
       "\n",
       "    .dataframe thead th {\n",
       "        text-align: right;\n",
       "    }\n",
       "</style>\n",
       "<table border=\"1\" class=\"dataframe\">\n",
       "  <thead>\n",
       "    <tr style=\"text-align: right;\">\n",
       "      <th></th>\n",
       "      <th>1. open</th>\n",
       "      <th>2. high</th>\n",
       "      <th>3. low</th>\n",
       "      <th>4. close</th>\n",
       "      <th>5. volume</th>\n",
       "    </tr>\n",
       "    <tr>\n",
       "      <th>Data</th>\n",
       "      <th></th>\n",
       "      <th></th>\n",
       "      <th></th>\n",
       "      <th></th>\n",
       "      <th></th>\n",
       "    </tr>\n",
       "  </thead>\n",
       "  <tbody>\n",
       "    <tr>\n",
       "      <th>2025-02-18</th>\n",
       "      <td>727.95</td>\n",
       "      <td>727.95</td>\n",
       "      <td>717.45</td>\n",
       "      <td>725.75</td>\n",
       "      <td>396321.0</td>\n",
       "    </tr>\n",
       "    <tr>\n",
       "      <th>2025-02-17</th>\n",
       "      <td>721.85</td>\n",
       "      <td>728.95</td>\n",
       "      <td>711.40</td>\n",
       "      <td>728.05</td>\n",
       "      <td>751026.0</td>\n",
       "    </tr>\n",
       "    <tr>\n",
       "      <th>2025-02-14</th>\n",
       "      <td>729.45</td>\n",
       "      <td>732.70</td>\n",
       "      <td>716.15</td>\n",
       "      <td>722.00</td>\n",
       "      <td>895669.0</td>\n",
       "    </tr>\n",
       "    <tr>\n",
       "      <th>2025-02-13</th>\n",
       "      <td>735.00</td>\n",
       "      <td>737.30</td>\n",
       "      <td>726.05</td>\n",
       "      <td>727.30</td>\n",
       "      <td>605466.0</td>\n",
       "    </tr>\n",
       "    <tr>\n",
       "      <th>2025-02-12</th>\n",
       "      <td>732.95</td>\n",
       "      <td>738.30</td>\n",
       "      <td>717.25</td>\n",
       "      <td>733.25</td>\n",
       "      <td>550605.0</td>\n",
       "    </tr>\n",
       "  </tbody>\n",
       "</table>\n",
       "</div>"
      ],
      "text/plain": [
       "            1. open  2. high  3. low  4. close  5. volume\n",
       "Data                                                     \n",
       "2025-02-18   727.95   727.95  717.45    725.75   396321.0\n",
       "2025-02-17   721.85   728.95  711.40    728.05   751026.0\n",
       "2025-02-14   729.45   732.70  716.15    722.00   895669.0\n",
       "2025-02-13   735.00   737.30  726.05    727.30   605466.0\n",
       "2025-02-12   732.95   738.30  717.25    733.25   550605.0"
      ]
     },
     "execution_count": 33,
     "metadata": {},
     "output_type": "execute_result"
    }
   ],
   "source": [
    "df.head()"
   ]
  },
  {
   "cell_type": "code",
   "execution_count": 34,
   "metadata": {},
   "outputs": [],
   "source": [
    "df.to_csv(\"SBI.csv\")"
   ]
  },
  {
   "cell_type": "markdown",
   "metadata": {},
   "source": [
    "### Plotting above result"
   ]
  },
  {
   "attachments": {
    "image.png": {
     "image/png": "[encoded data removed]"
    }
   },
   "cell_type": "markdown",
   "metadata": {},
   "source": [
    "![image.png](attachment:image.png)"
   ]
  },
  {
   "cell_type": "code",
   "execution_count": 35,
   "metadata": {},
   "outputs": [
    {
     "name": "stdout",
     "output_type": "stream",
     "text": [
      "Requirement already satisfied: plotly in c:\\advance python\\repository\\venv\\lib\\site-packages (5.24.1)\n",
      "Requirement already satisfied: nbformat in c:\\advance python\\repository\\venv\\lib\\site-packages (5.10.4)\n",
      "Requirement already satisfied: tenacity>=6.2.0 in c:\\advance python\\repository\\venv\\lib\\site-packages (from plotly) (9.0.0)\n",
      "Requirement already satisfied: packaging in c:\\advance python\\repository\\venv\\lib\\site-packages (from plotly) (24.2)\n",
      "Requirement already satisfied: fastjsonschema>=2.15 in c:\\advance python\\repository\\venv\\lib\\site-packages (from nbformat) (2.21.1)\n",
      "Requirement already satisfied: jsonschema>=2.6 in c:\\advance python\\repository\\venv\\lib\\site-packages (from nbformat) (4.23.0)\n",
      "Requirement already satisfied: jupyter-core!=5.0.*,>=4.12 in c:\\advance python\\repository\\venv\\lib\\site-packages (from nbformat) (5.7.2)\n",
      "Requirement already satisfied: traitlets>=5.1 in c:\\advance python\\repository\\venv\\lib\\site-packages (from nbformat) (5.14.3)\n",
      "Requirement already satisfied: attrs>=22.2.0 in c:\\advance python\\repository\\venv\\lib\\site-packages (from jsonschema>=2.6->nbformat) (24.3.0)\n",
      "Requirement already satisfied: jsonschema-specifications>=2023.03.6 in c:\\advance python\\repository\\venv\\lib\\site-packages (from jsonschema>=2.6->nbformat) (2024.10.1)\n",
      "Requirement already satisfied: referencing>=0.28.4 in c:\\advance python\\repository\\venv\\lib\\site-packages (from jsonschema>=2.6->nbformat) (0.35.1)\n",
      "Requirement already satisfied: rpds-py>=0.7.1 in c:\\advance python\\repository\\venv\\lib\\site-packages (from jsonschema>=2.6->nbformat) (0.22.3)\n",
      "Requirement already satisfied: platformdirs>=2.5 in c:\\advance python\\repository\\venv\\lib\\site-packages (from jupyter-core!=5.0.*,>=4.12->nbformat) (4.3.6)\n",
      "Requirement already satisfied: pywin32>=300 in c:\\advance python\\repository\\venv\\lib\\site-packages (from jupyter-core!=5.0.*,>=4.12->nbformat) (308)\n",
      "Note: you may need to restart the kernel to use updated packages.\n"
     ]
    },
    {
     "name": "stderr",
     "output_type": "stream",
     "text": [
      "\n",
      "[notice] A new release of pip is available: 24.3.1 -> 25.0.1\n",
      "[notice] To update, run: python.exe -m pip install --upgrade pip\n"
     ]
    }
   ],
   "source": [
    "%pip install plotly nbformat"
   ]
  },
  {
   "cell_type": "code",
   "execution_count": 36,
   "metadata": {},
   "outputs": [],
   "source": [
    "import plotly.graph_objects as go"
   ]
  },
  {
   "cell_type": "code",
   "execution_count": 38,
   "metadata": {},
   "outputs": [
    {
     "data": {
      "application/vnd.plotly.v1+json": {
       "config": {
        "plotlyServerURL": "https://plot.ly"
       },
       "data": [
        {
         "close": [
          725.75,
          728.05,
          722,
          727.3,
          733.25,
          731,
          736.85,
          737.05,
          752.35,
          766.1,
          779.2,
          761,
          773.1,
          762.2,
          758.7,
          751.65,
          749.2,
          744.35,
          745.95,
          753.25,
          759,
          779.05,
          764.1,
          766.4,
          754,
          748.1,
          729.6,
          743.15,
          760.35,
          771.2,
          779,
          776.75,
          793.5,
          801.05,
          793.35,
          795.05,
          788.3,
          799.55,
          811.65,
          811.85,
          820.95,
          812.5,
          832.8,
          839.05,
          850.2,
          860.7,
          861.7,
          853.75,
          861.55,
          867.6,
          857.85,
          864,
          864.85,
          859.45,
          853.95,
          836.2,
          839,
          838.75,
          834.2,
          839.35,
          844.75,
          816.05,
          780.85,
          802,
          813.7,
          804.05,
          808.35,
          826.4,
          847.8,
          843.25,
          859.25,
          854.75,
          849.2,
          829.85,
          820.5,
          822.4,
          832.65,
          792.05,
          780.6,
          794.7,
          785.95,
          790.45,
          814.15,
          819.95,
          810.9,
          805.85,
          804.6,
          805.25,
          800,
          796.95,
          797,
          782.05,
          769.8,
          796.6,
          794.35,
          797,
          787.6,
          802.65,
          801.9,
          792.95
         ],
         "high": [
          727.95,
          728.95,
          732.7,
          737.3,
          738.3,
          740,
          744.05,
          761.8,
          770.95,
          781.6,
          780.85,
          763.65,
          777.75,
          764.85,
          760.25,
          759.6,
          755.3,
          753.75,
          755.8,
          762.85,
          785.3,
          784.95,
          767.85,
          776.55,
          758.85,
          756.9,
          743.85,
          760.8,
          771.95,
          782.5,
          783.75,
          798,
          809.7,
          802.4,
          798.5,
          798.95,
          808,
          818.75,
          822.95,
          825.55,
          823.9,
          836.4,
          837.9,
          850.8,
          862.95,
          866.2,
          863,
          864.2,
          869.75,
          868.85,
          866.8,
          875.5,
          871,
          863.8,
          856.6,
          842,
          843.85,
          845.7,
          842.15,
          846.7,
          849.3,
          819.75,
          800,
          820.1,
          816.65,
          817.85,
          831.65,
          853,
          853.65,
          863.65,
          862.45,
          861,
          851.2,
          837.5,
          828,
          832.9,
          834.5,
          803.95,
          800,
          796.8,
          792.5,
          816.35,
          826.35,
          822.4,
          819.25,
          808.9,
          807.6,
          809,
          802.5,
          804.35,
          805,
          784.5,
          803.9,
          809.65,
          803.95,
          799.75,
          802.5,
          807.85,
          803,
          798.25
         ],
         "low": [
          717.45,
          711.4,
          716.15,
          726.05,
          717.25,
          726.9,
          733.6,
          732.05,
          750,
          764.65,
          766,
          753.45,
          759.35,
          754.7,
          749.8,
          745.65,
          736,
          738.85,
          743.3,
          738.3,
          756.25,
          765.05,
          759.45,
          760.05,
          750.35,
          730.6,
          722.5,
          742,
          726.9,
          760.1,
          775.1,
          773.3,
          792.25,
          786.3,
          789.6,
          787,
          785.2,
          797.25,
          808,
          809.2,
          812.4,
          810,
          820.1,
          836.7,
          847.15,
          857.8,
          835,
          851.25,
          860.8,
          858.5,
          856.75,
          856.85,
          855.65,
          850.25,
          836.45,
          832.8,
          831.5,
          830.35,
          832,
          835.2,
          825.95,
          784.3,
          761.65,
          800.1,
          799.2,
          801.1,
          804.45,
          824.1,
          841.45,
          834.3,
          846.7,
          846.2,
          826.1,
          807.05,
          813.45,
          821.05,
          790.5,
          783.2,
          772.05,
          784.5,
          779.6,
          787.6,
          809.1,
          803.1,
          806.05,
          801.05,
          801.5,
          800.15,
          793,
          795.05,
          782.55,
          771.1,
          765.55,
          785.2,
          784.35,
          788.25,
          786.15,
          798.4,
          791.55,
          788.65
         ],
         "open": [
          727.95,
          721.85,
          729.45,
          735,
          732.95,
          738.15,
          740.55,
          761.8,
          769.65,
          780.8,
          766.3,
          763.65,
          765,
          759.4,
          752.5,
          756.2,
          740,
          747.2,
          751.95,
          762.85,
          784.95,
          765.05,
          766.9,
          761.65,
          753.7,
          730.6,
          742.95,
          760.35,
          771.95,
          781,
          778.05,
          798,
          801.9,
          795,
          796.85,
          788.75,
          802.7,
          817.25,
          813,
          825,
          818.35,
          833.8,
          822.05,
          850.2,
          859.75,
          859,
          853.7,
          862.5,
          865.75,
          862,
          862.95,
          866.95,
          861.65,
          854.4,
          836.45,
          836.2,
          842,
          834.95,
          839.3,
          844.75,
          826.25,
          785.65,
          800,
          817.55,
          810.05,
          809.95,
          822.5,
          851,
          847,
          860,
          860.05,
          850,
          829,
          822.65,
          821.95,
          830,
          796.5,
          783.2,
          798.45,
          786.05,
          790,
          814.15,
          822.05,
          811,
          806.05,
          801.05,
          805,
          800.15,
          797,
          799.9,
          787.95,
          771.1,
          797.05,
          790.3,
          787.4,
          788.95,
          801.15,
          802,
          795.15,
          798.25
         ],
         "type": "candlestick",
         "x": [
          "2025-02-18T00:00:00",
          "2025-02-17T00:00:00",
          "2025-02-14T00:00:00",
          "2025-02-13T00:00:00",
          "2025-02-12T00:00:00",
          "2025-02-11T00:00:00",
          "2025-02-10T00:00:00",
          "2025-02-07T00:00:00",
          "2025-02-06T00:00:00",
          "2025-02-05T00:00:00",
          "2025-02-04T00:00:00",
          "2025-02-03T00:00:00",
          "2025-01-31T00:00:00",
          "2025-01-30T00:00:00",
          "2025-01-29T00:00:00",
          "2025-01-28T00:00:00",
          "2025-01-27T00:00:00",
          "2025-01-24T00:00:00",
          "2025-01-23T00:00:00",
          "2025-01-22T00:00:00",
          "2025-01-21T00:00:00",
          "2025-01-20T00:00:00",
          "2025-01-17T00:00:00",
          "2025-01-16T00:00:00",
          "2025-01-15T00:00:00",
          "2025-01-14T00:00:00",
          "2025-01-13T00:00:00",
          "2025-01-10T00:00:00",
          "2025-01-09T00:00:00",
          "2025-01-08T00:00:00",
          "2025-01-07T00:00:00",
          "2025-01-06T00:00:00",
          "2025-01-03T00:00:00",
          "2025-01-02T00:00:00",
          "2025-01-01T00:00:00",
          "2024-12-31T00:00:00",
          "2024-12-30T00:00:00",
          "2024-12-27T00:00:00",
          "2024-12-26T00:00:00",
          "2024-12-24T00:00:00",
          "2024-12-23T00:00:00",
          "2024-12-20T00:00:00",
          "2024-12-19T00:00:00",
          "2024-12-18T00:00:00",
          "2024-12-17T00:00:00",
          "2024-12-16T00:00:00",
          "2024-12-13T00:00:00",
          "2024-12-12T00:00:00",
          "2024-12-11T00:00:00",
          "2024-12-10T00:00:00",
          "2024-12-09T00:00:00",
          "2024-12-06T00:00:00",
          "2024-12-05T00:00:00",
          "2024-12-04T00:00:00",
          "2024-12-03T00:00:00",
          "2024-12-02T00:00:00",
          "2024-11-29T00:00:00",
          "2024-11-28T00:00:00",
          "2024-11-27T00:00:00",
          "2024-11-26T00:00:00",
          "2024-11-25T00:00:00",
          "2024-11-22T00:00:00",
          "2024-11-21T00:00:00",
          "2024-11-19T00:00:00",
          "2024-11-18T00:00:00",
          "2024-11-14T00:00:00",
          "2024-11-13T00:00:00",
          "2024-11-12T00:00:00",
          "2024-11-11T00:00:00",
          "2024-11-08T00:00:00",
          "2024-11-07T00:00:00",
          "2024-11-06T00:00:00",
          "2024-11-05T00:00:00",
          "2024-11-04T00:00:00",
          "2024-10-31T00:00:00",
          "2024-10-30T00:00:00",
          "2024-10-29T00:00:00",
          "2024-10-28T00:00:00",
          "2024-10-25T00:00:00",
          "2024-10-24T00:00:00",
          "2024-10-23T00:00:00",
          "2024-10-22T00:00:00",
          "2024-10-21T00:00:00",
          "2024-10-18T00:00:00",
          "2024-10-17T00:00:00",
          "2024-10-16T00:00:00",
          "2024-10-15T00:00:00",
          "2024-10-14T00:00:00",
          "2024-10-11T00:00:00",
          "2024-10-10T00:00:00",
          "2024-10-09T00:00:00",
          "2024-10-08T00:00:00",
          "2024-10-07T00:00:00",
          "2024-10-04T00:00:00",
          "2024-10-03T00:00:00",
          "2024-10-01T00:00:00",
          "2024-09-30T00:00:00",
          "2024-09-27T00:00:00",
          "2024-09-26T00:00:00",
          "2024-09-25T00:00:00"
         ]
        }
       ],
       "layout": {
        "height": 800,
        "template": {
         "data": {
          "bar": [
           {
            "error_x": {
             "color": "#2a3f5f"
            },
            "error_y": {
             "color": "#2a3f5f"
            },
            "marker": {
             "line": {
              "color": "#E5ECF6",
              "width": 0.5
             },
             "pattern": {
              "fillmode": "overlay",
              "size": 10,
              "solidity": 0.2
             }
            },
            "type": "bar"
           }
          ],
          "barpolar": [
           {
            "marker": {
             "line": {
              "color": "#E5ECF6",
              "width": 0.5
             },
             "pattern": {
              "fillmode": "overlay",
              "size": 10,
              "solidity": 0.2
             }
            },
            "type": "barpolar"
           }
          ],
          "carpet": [
           {
            "aaxis": {
             "endlinecolor": "#2a3f5f",
             "gridcolor": "white",
             "linecolor": "white",
             "minorgridcolor": "white",
             "startlinecolor": "#2a3f5f"
            },
            "baxis": {
             "endlinecolor": "#2a3f5f",
             "gridcolor": "white",
             "linecolor": "white",
             "minorgridcolor": "white",
             "startlinecolor": "#2a3f5f"
            },
            "type": "carpet"
           }
          ],
          "choropleth": [
           {
            "colorbar": {
             "outlinewidth": 0,
             "ticks": ""
            },
            "type": "choropleth"
           }
          ],
          "contour": [
           {
            "colorbar": {
             "outlinewidth": 0,
             "ticks": ""
            },
            "colorscale": [
             [
              0,
              "#0d0887"
             ],
             [
              0.1111111111111111,
              "#46039f"
             ],
             [
              0.2222222222222222,
              "#7201a8"
             ],
             [
              0.3333333333333333,
              "#9c179e"
             ],
             [
              0.4444444444444444,
              "#bd3786"
             ],
             [
              0.5555555555555556,
              "#d8576b"
             ],
             [
              0.6666666666666666,
              "#ed7953"
             ],
             [
              0.7777777777777778,
              "#fb9f3a"
             ],
             [
              0.8888888888888888,
              "#fdca26"
             ],
             [
              1,
              "#f0f921"
             ]
            ],
            "type": "contour"
           }
          ],
          "contourcarpet": [
           {
            "colorbar": {
             "outlinewidth": 0,
             "ticks": ""
            },
            "type": "contourcarpet"
           }
          ],
          "heatmap": [
           {
            "colorbar": {
             "outlinewidth": 0,
             "ticks": ""
            },
            "colorscale": [
             [
              0,
              "#0d0887"
             ],
             [
              0.1111111111111111,
              "#46039f"
             ],
             [
              0.2222222222222222,
              "#7201a8"
             ],
             [
              0.3333333333333333,
              "#9c179e"
             ],
             [
              0.4444444444444444,
              "#bd3786"
             ],
             [
              0.5555555555555556,
              "#d8576b"
             ],
             [
              0.6666666666666666,
              "#ed7953"
             ],
             [
              0.7777777777777778,
              "#fb9f3a"
             ],
             [
              0.8888888888888888,
              "#fdca26"
             ],
             [
              1,
              "#f0f921"
             ]
            ],
            "type": "heatmap"
           }
          ],
          "heatmapgl": [
           {
            "colorbar": {
             "outlinewidth": 0,
             "ticks": ""
            },
            "colorscale": [
             [
              0,
              "#0d0887"
             ],
             [
              0.1111111111111111,
              "#46039f"
             ],
             [
              0.2222222222222222,
              "#7201a8"
             ],
             [
              0.3333333333333333,
              "#9c179e"
             ],
             [
              0.4444444444444444,
              "#bd3786"
             ],
             [
              0.5555555555555556,
              "#d8576b"
             ],
             [
              0.6666666666666666,
              "#ed7953"
             ],
             [
              0.7777777777777778,
              "#fb9f3a"
             ],
             [
              0.8888888888888888,
              "#fdca26"
             ],
             [
              1,
              "#f0f921"
             ]
            ],
            "type": "heatmapgl"
           }
          ],
          "histogram": [
           {
            "marker": {
             "pattern": {
              "fillmode": "overlay",
              "size": 10,
              "solidity": 0.2
             }
            },
            "type": "histogram"
           }
          ],
          "histogram2d": [
           {
            "colorbar": {
             "outlinewidth": 0,
             "ticks": ""
            },
            "colorscale": [
             [
              0,
              "#0d0887"
             ],
             [
              0.1111111111111111,
              "#46039f"
             ],
             [
              0.2222222222222222,
              "#7201a8"
             ],
             [
              0.3333333333333333,
              "#9c179e"
             ],
             [
              0.4444444444444444,
              "#bd3786"
             ],
             [
              0.5555555555555556,
              "#d8576b"
             ],
             [
              0.6666666666666666,
              "#ed7953"
             ],
             [
              0.7777777777777778,
              "#fb9f3a"
             ],
             [
              0.8888888888888888,
              "#fdca26"
             ],
             [
              1,
              "#f0f921"
             ]
            ],
            "type": "histogram2d"
           }
          ],
          "histogram2dcontour": [
           {
            "colorbar": {
             "outlinewidth": 0,
             "ticks": ""
            },
            "colorscale": [
             [
              0,
              "#0d0887"
             ],
             [
              0.1111111111111111,
              "#46039f"
             ],
             [
              0.2222222222222222,
              "#7201a8"
             ],
             [
              0.3333333333333333,
              "#9c179e"
             ],
             [
              0.4444444444444444,
              "#bd3786"
             ],
             [
              0.5555555555555556,
              "#d8576b"
             ],
             [
              0.6666666666666666,
              "#ed7953"
             ],
             [
              0.7777777777777778,
              "#fb9f3a"
             ],
             [
              0.8888888888888888,
              "#fdca26"
             ],
             [
              1,
              "#f0f921"
             ]
            ],
            "type": "histogram2dcontour"
           }
          ],
          "mesh3d": [
           {
            "colorbar": {
             "outlinewidth": 0,
             "ticks": ""
            },
            "type": "mesh3d"
           }
          ],
          "parcoords": [
           {
            "line": {
             "colorbar": {
              "outlinewidth": 0,
              "ticks": ""
             }
            },
            "type": "parcoords"
           }
          ],
          "pie": [
           {
            "automargin": true,
            "type": "pie"
           }
          ],
          "scatter": [
           {
            "fillpattern": {
             "fillmode": "overlay",
             "size": 10,
             "solidity": 0.2
            },
            "type": "scatter"
           }
          ],
          "scatter3d": [
           {
            "line": {
             "colorbar": {
              "outlinewidth": 0,
              "ticks": ""
             }
            },
            "marker": {
             "colorbar": {
              "outlinewidth": 0,
              "ticks": ""
             }
            },
            "type": "scatter3d"
           }
          ],
          "scattercarpet": [
           {
            "marker": {
             "colorbar": {
              "outlinewidth": 0,
              "ticks": ""
             }
            },
            "type": "scattercarpet"
           }
          ],
          "scattergeo": [
           {
            "marker": {
             "colorbar": {
              "outlinewidth": 0,
              "ticks": ""
             }
            },
            "type": "scattergeo"
           }
          ],
          "scattergl": [
           {
            "marker": {
             "colorbar": {
              "outlinewidth": 0,
              "ticks": ""
             }
            },
            "type": "scattergl"
           }
          ],
          "scattermapbox": [
           {
            "marker": {
             "colorbar": {
              "outlinewidth": 0,
              "ticks": ""
             }
            },
            "type": "scattermapbox"
           }
          ],
          "scatterpolar": [
           {
            "marker": {
             "colorbar": {
              "outlinewidth": 0,
              "ticks": ""
             }
            },
            "type": "scatterpolar"
           }
          ],
          "scatterpolargl": [
           {
            "marker": {
             "colorbar": {
              "outlinewidth": 0,
              "ticks": ""
             }
            },
            "type": "scatterpolargl"
           }
          ],
          "scatterternary": [
           {
            "marker": {
             "colorbar": {
              "outlinewidth": 0,
              "ticks": ""
             }
            },
            "type": "scatterternary"
           }
          ],
          "surface": [
           {
            "colorbar": {
             "outlinewidth": 0,
             "ticks": ""
            },
            "colorscale": [
             [
              0,
              "#0d0887"
             ],
             [
              0.1111111111111111,
              "#46039f"
             ],
             [
              0.2222222222222222,
              "#7201a8"
             ],
             [
              0.3333333333333333,
              "#9c179e"
             ],
             [
              0.4444444444444444,
              "#bd3786"
             ],
             [
              0.5555555555555556,
              "#d8576b"
             ],
             [
              0.6666666666666666,
              "#ed7953"
             ],
             [
              0.7777777777777778,
              "#fb9f3a"
             ],
             [
              0.8888888888888888,
              "#fdca26"
             ],
             [
              1,
              "#f0f921"
             ]
            ],
            "type": "surface"
           }
          ],
          "table": [
           {
            "cells": {
             "fill": {
              "color": "#EBF0F8"
             },
             "line": {
              "color": "white"
             }
            },
            "header": {
             "fill": {
              "color": "#C8D4E3"
             },
             "line": {
              "color": "white"
             }
            },
            "type": "table"
           }
          ]
         },
         "layout": {
          "annotationdefaults": {
           "arrowcolor": "#2a3f5f",
           "arrowhead": 0,
           "arrowwidth": 1
          },
          "autotypenumbers": "strict",
          "coloraxis": {
           "colorbar": {
            "outlinewidth": 0,
            "ticks": ""
           }
          },
          "colorscale": {
           "diverging": [
            [
             0,
             "#8e0152"
            ],
            [
             0.1,
             "#c51b7d"
            ],
            [
             0.2,
             "#de77ae"
            ],
            [
             0.3,
             "#f1b6da"
            ],
            [
             0.4,
             "#fde0ef"
            ],
            [
             0.5,
             "#f7f7f7"
            ],
            [
             0.6,
             "#e6f5d0"
            ],
            [
             0.7,
             "#b8e186"
            ],
            [
             0.8,
             "#7fbc41"
            ],
            [
             0.9,
             "#4d9221"
            ],
            [
             1,
             "#276419"
            ]
           ],
           "sequential": [
            [
             0,
             "#0d0887"
            ],
            [
             0.1111111111111111,
             "#46039f"
            ],
            [
             0.2222222222222222,
             "#7201a8"
            ],
            [
             0.3333333333333333,
             "#9c179e"
            ],
            [
             0.4444444444444444,
             "#bd3786"
            ],
            [
             0.5555555555555556,
             "#d8576b"
            ],
            [
             0.6666666666666666,
             "#ed7953"
            ],
            [
             0.7777777777777778,
             "#fb9f3a"
            ],
            [
             0.8888888888888888,
             "#fdca26"
            ],
            [
             1,
             "#f0f921"
            ]
           ],
           "sequentialminus": [
            [
             0,
             "#0d0887"
            ],
            [
             0.1111111111111111,
             "#46039f"
            ],
            [
             0.2222222222222222,
             "#7201a8"
            ],
            [
             0.3333333333333333,
             "#9c179e"
            ],
            [
             0.4444444444444444,
             "#bd3786"
            ],
            [
             0.5555555555555556,
             "#d8576b"
            ],
            [
             0.6666666666666666,
             "#ed7953"
            ],
            [
             0.7777777777777778,
             "#fb9f3a"
            ],
            [
             0.8888888888888888,
             "#fdca26"
            ],
            [
             1,
             "#f0f921"
            ]
           ]
          },
          "colorway": [
           "#636efa",
           "#EF553B",
           "#00cc96",
           "#ab63fa",
           "#FFA15A",
           "#19d3f3",
           "#FF6692",
           "#B6E880",
           "#FF97FF",
           "#FECB52"
          ],
          "font": {
           "color": "#2a3f5f"
          },
          "geo": {
           "bgcolor": "white",
           "lakecolor": "white",
           "landcolor": "#E5ECF6",
           "showlakes": true,
           "showland": true,
           "subunitcolor": "white"
          },
          "hoverlabel": {
           "align": "left"
          },
          "hovermode": "closest",
          "mapbox": {
           "style": "light"
          },
          "paper_bgcolor": "white",
          "plot_bgcolor": "#E5ECF6",
          "polar": {
           "angularaxis": {
            "gridcolor": "white",
            "linecolor": "white",
            "ticks": ""
           },
           "bgcolor": "#E5ECF6",
           "radialaxis": {
            "gridcolor": "white",
            "linecolor": "white",
            "ticks": ""
           }
          },
          "scene": {
           "xaxis": {
            "backgroundcolor": "#E5ECF6",
            "gridcolor": "white",
            "gridwidth": 2,
            "linecolor": "white",
            "showbackground": true,
            "ticks": "",
            "zerolinecolor": "white"
           },
           "yaxis": {
            "backgroundcolor": "#E5ECF6",
            "gridcolor": "white",
            "gridwidth": 2,
            "linecolor": "white",
            "showbackground": true,
            "ticks": "",
            "zerolinecolor": "white"
           },
           "zaxis": {
            "backgroundcolor": "#E5ECF6",
            "gridcolor": "white",
            "gridwidth": 2,
            "linecolor": "white",
            "showbackground": true,
            "ticks": "",
            "zerolinecolor": "white"
           }
          },
          "shapedefaults": {
           "line": {
            "color": "#2a3f5f"
           }
          },
          "ternary": {
           "aaxis": {
            "gridcolor": "white",
            "linecolor": "white",
            "ticks": ""
           },
           "baxis": {
            "gridcolor": "white",
            "linecolor": "white",
            "ticks": ""
           },
           "bgcolor": "#E5ECF6",
           "caxis": {
            "gridcolor": "white",
            "linecolor": "white",
            "ticks": ""
           }
          },
          "title": {
           "x": 0.05
          },
          "xaxis": {
           "automargin": true,
           "gridcolor": "white",
           "linecolor": "white",
           "ticks": "",
           "title": {
            "standoff": 15
           },
           "zerolinecolor": "white",
           "zerolinewidth": 2
          },
          "yaxis": {
           "automargin": true,
           "gridcolor": "white",
           "linecolor": "white",
           "ticks": "",
           "title": {
            "standoff": 15
           },
           "zerolinecolor": "white",
           "zerolinewidth": 2
          }
         }
        },
        "width": 1200
       }
      }
     },
     "metadata": {},
     "output_type": "display_data"
    }
   ],
   "source": [
    "fig = go.Figure(\n",
    "    data = [\n",
    "        go.Candlestick(\n",
    "            x = df.index,\n",
    "             open = df[\"1. open\"],\n",
    "            high = df[\"2. high\"],\n",
    "            low = df[\"3. low\"],\n",
    "            close = df[\"4. close\"]\n",
    "            \n",
    "        )\n",
    "    ]\n",
    ")\n",
    "fig.update_layout(width= 1200, height=800)\n",
    "\n",
    "fig.show()"
   ]
  },
  {
   "cell_type": "markdown",
   "metadata": {},
   "source": [
    "### Create a class to get data for any company"
   ]
  },
  {
   "cell_type": "code",
   "execution_count": 39,
   "metadata": {},
   "outputs": [],
   "source": [
    "class StockAPI:\n",
    "\n",
    "    def __init__(self):\n",
    "        self.api_key = os.getenv(\"API_KEY\")\n",
    "        self.url = \"https://alpha-vantage.p.rapidapi.com/query\"\n",
    "        self.headers = {\n",
    "            \"x-rapidapi-key\": self.api_key,\n",
    "            \"x-rapidapi-host\": \"alpha-vantage.p.rapidapi.com\",\n",
    "        }\n",
    "\n",
    "    def symbol_search(self, company: str):\n",
    "        querystring = {\n",
    "            \"datatype\": \"json\",\n",
    "            \"keywords\": company,\n",
    "            \"function\": \"SYMBOL_SEARCH\",\n",
    "        }\n",
    "        response = requests.get(self.url, headers=self.headers, params=querystring)\n",
    "        data = response.json()\n",
    "        d = {}\n",
    "        for i in data[\"bestMatches\"]:\n",
    "            symbol = i[\"1. symbol\"]\n",
    "            d[symbol] = [i[\"2. name\"], i[\"4. region\"], i[\"8. currency\"]]\n",
    "\n",
    "        return d\n",
    "\n",
    "    def get_daily_prices(self, symbol: str):\n",
    "        querystring = {\n",
    "            \"function\": \"TIME_SERIES_DAILY\",\n",
    "            \"symbol\": symbol,\n",
    "            \"outputsize\": \"compact\",\n",
    "             \"datatype\": \"json\",\n",
    "        }\n",
    "        response = requests.get(self.url, headers=self.headers, params=querystring)\n",
    "        data = response.json()\n",
    "        daily = data[\"Time Series (Daily)\"]\n",
    "        df = pd.DataFrame(daily).T\n",
    "        df.index = pd.to_datetime(df.index)\n",
    "        df.index.name = \"Date\"\n",
    "        df = df.astype(float)\n",
    "        return df\n",
    "\n",
    "    def plot_candlestick(self, df: pd.DataFrame):\n",
    "        fig = go.Figure(\n",
    "            data=[\n",
    "                go.Candlestick(\n",
    "                    x=df.index,\n",
    "                    open=df[\"1. open\"],\n",
    "                    high=df[\"2. high\"],\n",
    "                    low=df[\"3. low\"],\n",
    "                    close=df[\"4. close\"],\n",
    "                )\n",
    "            ]\n",
    "        )\n",
    "\n",
    "        fig.update_layout(width=1200, height=800)\n",
    "\n",
    "        return fig\n"
   ]
  },
  {
   "cell_type": "markdown",
   "metadata": {},
   "source": [
    "### Using above class"
   ]
  },
  {
   "cell_type": "code",
   "execution_count": 40,
   "metadata": {},
   "outputs": [],
   "source": [
    "client = StockAPI()"
   ]
  },
  {
   "cell_type": "code",
   "execution_count": 41,
   "metadata": {},
   "outputs": [
    {
     "data": {
      "text/plain": [
       "{'HDB': ['HDFC Bank Ltd', 'United States', 'USD'],\n",
       " 'HDFCBANK.BSE': ['HDFC Bank Limited', 'India/Bombay', 'INR'],\n",
       " 'H1DB34.SAO': ['HDFC Bank Limited', 'Brazil/Sao Paolo', 'BRL'],\n",
       " 'HDFA.FRK': ['HDFC Bank Limited', 'Frankfurt', 'EUR']}"
      ]
     },
     "execution_count": 41,
     "metadata": {},
     "output_type": "execute_result"
    }
   ],
   "source": [
    "client.symbol_search(\"HDFC Bank\")"
   ]
  },
  {
   "cell_type": "code",
   "execution_count": 42,
   "metadata": {},
   "outputs": [
    {
     "data": {
      "text/html": [
       "<div>\n",
       "<style scoped>\n",
       "    .dataframe tbody tr th:only-of-type {\n",
       "        vertical-align: middle;\n",
       "    }\n",
       "\n",
       "    .dataframe tbody tr th {\n",
       "        vertical-align: top;\n",
       "    }\n",
       "\n",
       "    .dataframe thead th {\n",
       "        text-align: right;\n",
       "    }\n",
       "</style>\n",
       "<table border=\"1\" class=\"dataframe\">\n",
       "  <thead>\n",
       "    <tr style=\"text-align: right;\">\n",
       "      <th></th>\n",
       "      <th>1. open</th>\n",
       "      <th>2. high</th>\n",
       "      <th>3. low</th>\n",
       "      <th>4. close</th>\n",
       "      <th>5. volume</th>\n",
       "    </tr>\n",
       "    <tr>\n",
       "      <th>Date</th>\n",
       "      <th></th>\n",
       "      <th></th>\n",
       "      <th></th>\n",
       "      <th></th>\n",
       "      <th></th>\n",
       "    </tr>\n",
       "  </thead>\n",
       "  <tbody>\n",
       "    <tr>\n",
       "      <th>2025-02-18</th>\n",
       "      <td>1715.00</td>\n",
       "      <td>1731.60</td>\n",
       "      <td>1706.35</td>\n",
       "      <td>1722.50</td>\n",
       "      <td>131530.0</td>\n",
       "    </tr>\n",
       "    <tr>\n",
       "      <th>2025-02-17</th>\n",
       "      <td>1686.05</td>\n",
       "      <td>1720.00</td>\n",
       "      <td>1681.05</td>\n",
       "      <td>1717.25</td>\n",
       "      <td>200455.0</td>\n",
       "    </tr>\n",
       "    <tr>\n",
       "      <th>2025-02-14</th>\n",
       "      <td>1700.05</td>\n",
       "      <td>1700.35</td>\n",
       "      <td>1679.55</td>\n",
       "      <td>1695.00</td>\n",
       "      <td>460544.0</td>\n",
       "    </tr>\n",
       "    <tr>\n",
       "      <th>2025-02-13</th>\n",
       "      <td>1699.95</td>\n",
       "      <td>1714.00</td>\n",
       "      <td>1693.65</td>\n",
       "      <td>1697.75</td>\n",
       "      <td>84193.0</td>\n",
       "    </tr>\n",
       "    <tr>\n",
       "      <th>2025-02-12</th>\n",
       "      <td>1691.00</td>\n",
       "      <td>1711.60</td>\n",
       "      <td>1681.55</td>\n",
       "      <td>1707.05</td>\n",
       "      <td>143452.0</td>\n",
       "    </tr>\n",
       "    <tr>\n",
       "      <th>...</th>\n",
       "      <td>...</td>\n",
       "      <td>...</td>\n",
       "      <td>...</td>\n",
       "      <td>...</td>\n",
       "      <td>...</td>\n",
       "    </tr>\n",
       "    <tr>\n",
       "      <th>2024-10-04</th>\n",
       "      <td>1668.95</td>\n",
       "      <td>1690.40</td>\n",
       "      <td>1652.40</td>\n",
       "      <td>1656.80</td>\n",
       "      <td>1035087.0</td>\n",
       "    </tr>\n",
       "    <tr>\n",
       "      <th>2024-10-03</th>\n",
       "      <td>1710.05</td>\n",
       "      <td>1725.90</td>\n",
       "      <td>1673.80</td>\n",
       "      <td>1682.15</td>\n",
       "      <td>4622696.0</td>\n",
       "    </tr>\n",
       "    <tr>\n",
       "      <th>2024-10-01</th>\n",
       "      <td>1724.10</td>\n",
       "      <td>1742.00</td>\n",
       "      <td>1720.05</td>\n",
       "      <td>1726.15</td>\n",
       "      <td>115295.0</td>\n",
       "    </tr>\n",
       "    <tr>\n",
       "      <th>2024-09-30</th>\n",
       "      <td>1751.00</td>\n",
       "      <td>1752.00</td>\n",
       "      <td>1724.00</td>\n",
       "      <td>1732.00</td>\n",
       "      <td>725769.0</td>\n",
       "    </tr>\n",
       "    <tr>\n",
       "      <th>2024-09-27</th>\n",
       "      <td>1778.10</td>\n",
       "      <td>1778.10</td>\n",
       "      <td>1750.00</td>\n",
       "      <td>1752.85</td>\n",
       "      <td>232369.0</td>\n",
       "    </tr>\n",
       "  </tbody>\n",
       "</table>\n",
       "<p>100 rows × 5 columns</p>\n",
       "</div>"
      ],
      "text/plain": [
       "            1. open  2. high   3. low  4. close  5. volume\n",
       "Date                                                      \n",
       "2025-02-18  1715.00  1731.60  1706.35   1722.50   131530.0\n",
       "2025-02-17  1686.05  1720.00  1681.05   1717.25   200455.0\n",
       "2025-02-14  1700.05  1700.35  1679.55   1695.00   460544.0\n",
       "2025-02-13  1699.95  1714.00  1693.65   1697.75    84193.0\n",
       "2025-02-12  1691.00  1711.60  1681.55   1707.05   143452.0\n",
       "...             ...      ...      ...       ...        ...\n",
       "2024-10-04  1668.95  1690.40  1652.40   1656.80  1035087.0\n",
       "2024-10-03  1710.05  1725.90  1673.80   1682.15  4622696.0\n",
       "2024-10-01  1724.10  1742.00  1720.05   1726.15   115295.0\n",
       "2024-09-30  1751.00  1752.00  1724.00   1732.00   725769.0\n",
       "2024-09-27  1778.10  1778.10  1750.00   1752.85   232369.0\n",
       "\n",
       "[100 rows x 5 columns]"
      ]
     },
     "execution_count": 42,
     "metadata": {},
     "output_type": "execute_result"
    }
   ],
   "source": [
    "df3 = client.get_daily_prices(\"HDFCBANK.BSE\")\n",
    "df3"
   ]
  },
  {
   "cell_type": "code",
   "execution_count": 43,
   "metadata": {},
   "outputs": [],
   "source": [
    "df3.to_csv(\"HDFCBank.csv\")"
   ]
  },
  {
   "cell_type": "code",
   "execution_count": 44,
   "metadata": {},
   "outputs": [
    {
     "data": {
      "application/vnd.plotly.v1+json": {
       "config": {
        "plotlyServerURL": "https://plot.ly"
       },
       "data": [
        {
         "close": [
          1722.5,
          1717.25,
          1695,
          1697.75,
          1707.05,
          1699.9,
          1715.4,
          1732.1,
          1744.7,
          1737.5,
          1722.25,
          1680.15,
          1689.85,
          1699.25,
          1692.1,
          1677.1,
          1670.55,
          1629.7,
          1649.55,
          1664.8,
          1665.05,
          1641.75,
          1651.25,
          1636.7,
          1652.75,
          1642.75,
          1644.25,
          1630.1,
          1657.15,
          1667.75,
          1694.15,
          1714.1,
          1710.3,
          1749.3,
          1793.35,
          1782.45,
          1772.45,
          1778.7,
          1797.85,
          1791.75,
          1797.65,
          1801,
          1772.05,
          1793.45,
          1811.2,
          1832.85,
          1864.8,
          1872.05,
          1858.95,
          1863.7,
          1868.05,
          1869.8,
          1856.5,
          1863.8,
          1860.05,
          1826.85,
          1804.55,
          1797.65,
          1792.9,
          1811,
          1785.4,
          1784.6,
          1745.95,
          1741.95,
          1742.25,
          1704.5,
          1693.1,
          1681.25,
          1718.35,
          1766.6,
          1754.55,
          1746.15,
          1754.15,
          1757.95,
          1714.05,
          1737.8,
          1734.95,
          1735,
          1751,
          1734.3,
          1742.6,
          1750.1,
          1735.7,
          1714.1,
          1728.8,
          1681.15,
          1673.35,
          1699.95,
          1684.4,
          1688.5,
          1650.25,
          1662.3,
          1633.7,
          1651.3,
          1619.65,
          1656.8,
          1682.15,
          1726.15,
          1732,
          1752.85
         ],
         "high": [
          1731.6,
          1720,
          1700.35,
          1714,
          1711.6,
          1710.55,
          1723.75,
          1767.4,
          1747.45,
          1744,
          1726,
          1686.65,
          1712.6,
          1703.75,
          1696.3,
          1681.3,
          1684,
          1641.6,
          1670.65,
          1685,
          1671.85,
          1660.45,
          1660.75,
          1650.15,
          1660,
          1662.65,
          1656.25,
          1646.45,
          1675,
          1689.65,
          1712.05,
          1721.45,
          1757.45,
          1794.8,
          1803,
          1794.4,
          1781.35,
          1815,
          1803,
          1811.4,
          1806.15,
          1805.9,
          1797.35,
          1800.2,
          1835.65,
          1862.25,
          1870,
          1874.55,
          1868.65,
          1871.05,
          1875,
          1880,
          1864.15,
          1879,
          1865,
          1837,
          1808,
          1804.25,
          1836.05,
          1817.2,
          1804.1,
          1801.9,
          1753.8,
          1758.75,
          1753.65,
          1718.8,
          1704.6,
          1729,
          1773.25,
          1782.5,
          1761.45,
          1760.1,
          1772,
          1762.5,
          1743.6,
          1748.95,
          1739.65,
          1755,
          1763.7,
          1750.9,
          1758.35,
          1768.65,
          1746.45,
          1740,
          1748.2,
          1691,
          1698.25,
          1707.7,
          1698,
          1692,
          1665.05,
          1665,
          1656.55,
          1657,
          1659.8,
          1690.4,
          1725.9,
          1742,
          1752,
          1778.1
         ],
         "low": [
          1706.35,
          1681.05,
          1679.55,
          1693.65,
          1681.55,
          1688.2,
          1708.9,
          1725.1,
          1724.05,
          1718.7,
          1680.2,
          1665.05,
          1676.25,
          1684.05,
          1673.55,
          1668.85,
          1644,
          1626.4,
          1645,
          1651.75,
          1625.3,
          1632.75,
          1628,
          1628.75,
          1643.25,
          1636.25,
          1635,
          1624.25,
          1654.15,
          1658.85,
          1683,
          1700,
          1705,
          1746.3,
          1774.1,
          1762,
          1768,
          1771.35,
          1789.5,
          1781.75,
          1789.1,
          1780,
          1766.9,
          1779,
          1807.45,
          1826.35,
          1855.1,
          1829,
          1849.35,
          1857,
          1858.65,
          1849.55,
          1843.7,
          1835.9,
          1831.2,
          1816.4,
          1775,
          1783.1,
          1788,
          1785.3,
          1770,
          1765,
          1729.3,
          1733.7,
          1704,
          1694.6,
          1674,
          1672.5,
          1708.8,
          1751.55,
          1746.15,
          1737.8,
          1745.25,
          1698,
          1710,
          1728.75,
          1719.05,
          1724.4,
          1725.1,
          1728.95,
          1729,
          1737.55,
          1702.3,
          1710.95,
          1710.5,
          1654.05,
          1665.15,
          1677.55,
          1675.65,
          1654.95,
          1643.2,
          1633,
          1629,
          1619.65,
          1613.4,
          1652.4,
          1673.8,
          1720.05,
          1724,
          1750
         ],
         "open": [
          1715,
          1686.05,
          1700.05,
          1699.95,
          1691,
          1706,
          1715.3,
          1750.55,
          1735.35,
          1731.05,
          1690,
          1670,
          1697.05,
          1688.95,
          1677.35,
          1675,
          1644,
          1640,
          1663.95,
          1682.7,
          1644.95,
          1660,
          1632.95,
          1644.95,
          1655.75,
          1658,
          1635,
          1640,
          1670,
          1689.65,
          1711,
          1710.35,
          1739.9,
          1794.8,
          1780.5,
          1775,
          1770.05,
          1794.95,
          1790.25,
          1797.5,
          1803.95,
          1780,
          1787.95,
          1795.05,
          1832.5,
          1856.05,
          1863,
          1855.2,
          1849.95,
          1865,
          1870.25,
          1853.05,
          1859.75,
          1862,
          1838,
          1819.9,
          1797.65,
          1794.05,
          1818,
          1787.15,
          1800,
          1779,
          1740.15,
          1756.05,
          1715.05,
          1706.2,
          1674.95,
          1711.3,
          1767.2,
          1753,
          1747.05,
          1749.95,
          1765.2,
          1707.95,
          1741.4,
          1748.95,
          1730,
          1747.95,
          1725.1,
          1738.8,
          1757,
          1737.55,
          1702.3,
          1729,
          1720.05,
          1662.4,
          1692.4,
          1677.55,
          1692.55,
          1658,
          1664,
          1643,
          1651.95,
          1619.65,
          1654.95,
          1668.95,
          1710.05,
          1724.1,
          1751,
          1778.1
         ],
         "type": "candlestick",
         "x": [
          "2025-02-18T00:00:00",
          "2025-02-17T00:00:00",
          "2025-02-14T00:00:00",
          "2025-02-13T00:00:00",
          "2025-02-12T00:00:00",
          "2025-02-11T00:00:00",
          "2025-02-10T00:00:00",
          "2025-02-07T00:00:00",
          "2025-02-06T00:00:00",
          "2025-02-05T00:00:00",
          "2025-02-04T00:00:00",
          "2025-02-03T00:00:00",
          "2025-02-01T00:00:00",
          "2025-01-31T00:00:00",
          "2025-01-30T00:00:00",
          "2025-01-29T00:00:00",
          "2025-01-28T00:00:00",
          "2025-01-27T00:00:00",
          "2025-01-24T00:00:00",
          "2025-01-23T00:00:00",
          "2025-01-22T00:00:00",
          "2025-01-21T00:00:00",
          "2025-01-20T00:00:00",
          "2025-01-17T00:00:00",
          "2025-01-16T00:00:00",
          "2025-01-15T00:00:00",
          "2025-01-14T00:00:00",
          "2025-01-13T00:00:00",
          "2025-01-10T00:00:00",
          "2025-01-09T00:00:00",
          "2025-01-08T00:00:00",
          "2025-01-07T00:00:00",
          "2025-01-06T00:00:00",
          "2025-01-03T00:00:00",
          "2025-01-02T00:00:00",
          "2025-01-01T00:00:00",
          "2024-12-31T00:00:00",
          "2024-12-30T00:00:00",
          "2024-12-27T00:00:00",
          "2024-12-26T00:00:00",
          "2024-12-24T00:00:00",
          "2024-12-23T00:00:00",
          "2024-12-20T00:00:00",
          "2024-12-19T00:00:00",
          "2024-12-18T00:00:00",
          "2024-12-17T00:00:00",
          "2024-12-16T00:00:00",
          "2024-12-13T00:00:00",
          "2024-12-12T00:00:00",
          "2024-12-11T00:00:00",
          "2024-12-10T00:00:00",
          "2024-12-09T00:00:00",
          "2024-12-06T00:00:00",
          "2024-12-05T00:00:00",
          "2024-12-04T00:00:00",
          "2024-12-03T00:00:00",
          "2024-12-02T00:00:00",
          "2024-11-29T00:00:00",
          "2024-11-28T00:00:00",
          "2024-11-27T00:00:00",
          "2024-11-26T00:00:00",
          "2024-11-25T00:00:00",
          "2024-11-22T00:00:00",
          "2024-11-21T00:00:00",
          "2024-11-19T00:00:00",
          "2024-11-18T00:00:00",
          "2024-11-14T00:00:00",
          "2024-11-13T00:00:00",
          "2024-11-12T00:00:00",
          "2024-11-11T00:00:00",
          "2024-11-08T00:00:00",
          "2024-11-07T00:00:00",
          "2024-11-06T00:00:00",
          "2024-11-05T00:00:00",
          "2024-11-04T00:00:00",
          "2024-11-01T00:00:00",
          "2024-10-31T00:00:00",
          "2024-10-30T00:00:00",
          "2024-10-29T00:00:00",
          "2024-10-28T00:00:00",
          "2024-10-25T00:00:00",
          "2024-10-24T00:00:00",
          "2024-10-23T00:00:00",
          "2024-10-22T00:00:00",
          "2024-10-21T00:00:00",
          "2024-10-18T00:00:00",
          "2024-10-17T00:00:00",
          "2024-10-16T00:00:00",
          "2024-10-15T00:00:00",
          "2024-10-14T00:00:00",
          "2024-10-11T00:00:00",
          "2024-10-10T00:00:00",
          "2024-10-09T00:00:00",
          "2024-10-08T00:00:00",
          "2024-10-07T00:00:00",
          "2024-10-04T00:00:00",
          "2024-10-03T00:00:00",
          "2024-10-01T00:00:00",
          "2024-09-30T00:00:00",
          "2024-09-27T00:00:00"
         ]
        }
       ],
       "layout": {
        "height": 800,
        "template": {
         "data": {
          "bar": [
           {
            "error_x": {
             "color": "#2a3f5f"
            },
            "error_y": {
             "color": "#2a3f5f"
            },
            "marker": {
             "line": {
              "color": "#E5ECF6",
              "width": 0.5
             },
             "pattern": {
              "fillmode": "overlay",
              "size": 10,
              "solidity": 0.2
             }
            },
            "type": "bar"
           }
          ],
          "barpolar": [
           {
            "marker": {
             "line": {
              "color": "#E5ECF6",
              "width": 0.5
             },
             "pattern": {
              "fillmode": "overlay",
              "size": 10,
              "solidity": 0.2
             }
            },
            "type": "barpolar"
           }
          ],
          "carpet": [
           {
            "aaxis": {
             "endlinecolor": "#2a3f5f",
             "gridcolor": "white",
             "linecolor": "white",
             "minorgridcolor": "white",
             "startlinecolor": "#2a3f5f"
            },
            "baxis": {
             "endlinecolor": "#2a3f5f",
             "gridcolor": "white",
             "linecolor": "white",
             "minorgridcolor": "white",
             "startlinecolor": "#2a3f5f"
            },
            "type": "carpet"
           }
          ],
          "choropleth": [
           {
            "colorbar": {
             "outlinewidth": 0,
             "ticks": ""
            },
            "type": "choropleth"
           }
          ],
          "contour": [
           {
            "colorbar": {
             "outlinewidth": 0,
             "ticks": ""
            },
            "colorscale": [
             [
              0,
              "#0d0887"
             ],
             [
              0.1111111111111111,
              "#46039f"
             ],
             [
              0.2222222222222222,
              "#7201a8"
             ],
             [
              0.3333333333333333,
              "#9c179e"
             ],
             [
              0.4444444444444444,
              "#bd3786"
             ],
             [
              0.5555555555555556,
              "#d8576b"
             ],
             [
              0.6666666666666666,
              "#ed7953"
             ],
             [
              0.7777777777777778,
              "#fb9f3a"
             ],
             [
              0.8888888888888888,
              "#fdca26"
             ],
             [
              1,
              "#f0f921"
             ]
            ],
            "type": "contour"
           }
          ],
          "contourcarpet": [
           {
            "colorbar": {
             "outlinewidth": 0,
             "ticks": ""
            },
            "type": "contourcarpet"
           }
          ],
          "heatmap": [
           {
            "colorbar": {
             "outlinewidth": 0,
             "ticks": ""
            },
            "colorscale": [
             [
              0,
              "#0d0887"
             ],
             [
              0.1111111111111111,
              "#46039f"
             ],
             [
              0.2222222222222222,
              "#7201a8"
             ],
             [
              0.3333333333333333,
              "#9c179e"
             ],
             [
              0.4444444444444444,
              "#bd3786"
             ],
             [
              0.5555555555555556,
              "#d8576b"
             ],
             [
              0.6666666666666666,
              "#ed7953"
             ],
             [
              0.7777777777777778,
              "#fb9f3a"
             ],
             [
              0.8888888888888888,
              "#fdca26"
             ],
             [
              1,
              "#f0f921"
             ]
            ],
            "type": "heatmap"
           }
          ],
          "heatmapgl": [
           {
            "colorbar": {
             "outlinewidth": 0,
             "ticks": ""
            },
            "colorscale": [
             [
              0,
              "#0d0887"
             ],
             [
              0.1111111111111111,
              "#46039f"
             ],
             [
              0.2222222222222222,
              "#7201a8"
             ],
             [
              0.3333333333333333,
              "#9c179e"
             ],
             [
              0.4444444444444444,
              "#bd3786"
             ],
             [
              0.5555555555555556,
              "#d8576b"
             ],
             [
              0.6666666666666666,
              "#ed7953"
             ],
             [
              0.7777777777777778,
              "#fb9f3a"
             ],
             [
              0.8888888888888888,
              "#fdca26"
             ],
             [
              1,
              "#f0f921"
             ]
            ],
            "type": "heatmapgl"
           }
          ],
          "histogram": [
           {
            "marker": {
             "pattern": {
              "fillmode": "overlay",
              "size": 10,
              "solidity": 0.2
             }
            },
            "type": "histogram"
           }
          ],
          "histogram2d": [
           {
            "colorbar": {
             "outlinewidth": 0,
             "ticks": ""
            },
            "colorscale": [
             [
              0,
              "#0d0887"
             ],
             [
              0.1111111111111111,
              "#46039f"
             ],
             [
              0.2222222222222222,
              "#7201a8"
             ],
             [
              0.3333333333333333,
              "#9c179e"
             ],
             [
              0.4444444444444444,
              "#bd3786"
             ],
             [
              0.5555555555555556,
              "#d8576b"
             ],
             [
              0.6666666666666666,
              "#ed7953"
             ],
             [
              0.7777777777777778,
              "#fb9f3a"
             ],
             [
              0.8888888888888888,
              "#fdca26"
             ],
             [
              1,
              "#f0f921"
             ]
            ],
            "type": "histogram2d"
           }
          ],
          "histogram2dcontour": [
           {
            "colorbar": {
             "outlinewidth": 0,
             "ticks": ""
            },
            "colorscale": [
             [
              0,
              "#0d0887"
             ],
             [
              0.1111111111111111,
              "#46039f"
             ],
             [
              0.2222222222222222,
              "#7201a8"
             ],
             [
              0.3333333333333333,
              "#9c179e"
             ],
             [
              0.4444444444444444,
              "#bd3786"
             ],
             [
              0.5555555555555556,
              "#d8576b"
             ],
             [
              0.6666666666666666,
              "#ed7953"
             ],
             [
              0.7777777777777778,
              "#fb9f3a"
             ],
             [
              0.8888888888888888,
              "#fdca26"
             ],
             [
              1,
              "#f0f921"
             ]
            ],
            "type": "histogram2dcontour"
           }
          ],
          "mesh3d": [
           {
            "colorbar": {
             "outlinewidth": 0,
             "ticks": ""
            },
            "type": "mesh3d"
           }
          ],
          "parcoords": [
           {
            "line": {
             "colorbar": {
              "outlinewidth": 0,
              "ticks": ""
             }
            },
            "type": "parcoords"
           }
          ],
          "pie": [
           {
            "automargin": true,
            "type": "pie"
           }
          ],
          "scatter": [
           {
            "fillpattern": {
             "fillmode": "overlay",
             "size": 10,
             "solidity": 0.2
            },
            "type": "scatter"
           }
          ],
          "scatter3d": [
           {
            "line": {
             "colorbar": {
              "outlinewidth": 0,
              "ticks": ""
             }
            },
            "marker": {
             "colorbar": {
              "outlinewidth": 0,
              "ticks": ""
             }
            },
            "type": "scatter3d"
           }
          ],
          "scattercarpet": [
           {
            "marker": {
             "colorbar": {
              "outlinewidth": 0,
              "ticks": ""
             }
            },
            "type": "scattercarpet"
           }
          ],
          "scattergeo": [
           {
            "marker": {
             "colorbar": {
              "outlinewidth": 0,
              "ticks": ""
             }
            },
            "type": "scattergeo"
           }
          ],
          "scattergl": [
           {
            "marker": {
             "colorbar": {
              "outlinewidth": 0,
              "ticks": ""
             }
            },
            "type": "scattergl"
           }
          ],
          "scattermapbox": [
           {
            "marker": {
             "colorbar": {
              "outlinewidth": 0,
              "ticks": ""
             }
            },
            "type": "scattermapbox"
           }
          ],
          "scatterpolar": [
           {
            "marker": {
             "colorbar": {
              "outlinewidth": 0,
              "ticks": ""
             }
            },
            "type": "scatterpolar"
           }
          ],
          "scatterpolargl": [
           {
            "marker": {
             "colorbar": {
              "outlinewidth": 0,
              "ticks": ""
             }
            },
            "type": "scatterpolargl"
           }
          ],
          "scatterternary": [
           {
            "marker": {
             "colorbar": {
              "outlinewidth": 0,
              "ticks": ""
             }
            },
            "type": "scatterternary"
           }
          ],
          "surface": [
           {
            "colorbar": {
             "outlinewidth": 0,
             "ticks": ""
            },
            "colorscale": [
             [
              0,
              "#0d0887"
             ],
             [
              0.1111111111111111,
              "#46039f"
             ],
             [
              0.2222222222222222,
              "#7201a8"
             ],
             [
              0.3333333333333333,
              "#9c179e"
             ],
             [
              0.4444444444444444,
              "#bd3786"
             ],
             [
              0.5555555555555556,
              "#d8576b"
             ],
             [
              0.6666666666666666,
              "#ed7953"
             ],
             [
              0.7777777777777778,
              "#fb9f3a"
             ],
             [
              0.8888888888888888,
              "#fdca26"
             ],
             [
              1,
              "#f0f921"
             ]
            ],
            "type": "surface"
           }
          ],
          "table": [
           {
            "cells": {
             "fill": {
              "color": "#EBF0F8"
             },
             "line": {
              "color": "white"
             }
            },
            "header": {
             "fill": {
              "color": "#C8D4E3"
             },
             "line": {
              "color": "white"
             }
            },
            "type": "table"
           }
          ]
         },
         "layout": {
          "annotationdefaults": {
           "arrowcolor": "#2a3f5f",
           "arrowhead": 0,
           "arrowwidth": 1
          },
          "autotypenumbers": "strict",
          "coloraxis": {
           "colorbar": {
            "outlinewidth": 0,
            "ticks": ""
           }
          },
          "colorscale": {
           "diverging": [
            [
             0,
             "#8e0152"
            ],
            [
             0.1,
             "#c51b7d"
            ],
            [
             0.2,
             "#de77ae"
            ],
            [
             0.3,
             "#f1b6da"
            ],
            [
             0.4,
             "#fde0ef"
            ],
            [
             0.5,
             "#f7f7f7"
            ],
            [
             0.6,
             "#e6f5d0"
            ],
            [
             0.7,
             "#b8e186"
            ],
            [
             0.8,
             "#7fbc41"
            ],
            [
             0.9,
             "#4d9221"
            ],
            [
             1,
             "#276419"
            ]
           ],
           "sequential": [
            [
             0,
             "#0d0887"
            ],
            [
             0.1111111111111111,
             "#46039f"
            ],
            [
             0.2222222222222222,
             "#7201a8"
            ],
            [
             0.3333333333333333,
             "#9c179e"
            ],
            [
             0.4444444444444444,
             "#bd3786"
            ],
            [
             0.5555555555555556,
             "#d8576b"
            ],
            [
             0.6666666666666666,
             "#ed7953"
            ],
            [
             0.7777777777777778,
             "#fb9f3a"
            ],
            [
             0.8888888888888888,
             "#fdca26"
            ],
            [
             1,
             "#f0f921"
            ]
           ],
           "sequentialminus": [
            [
             0,
             "#0d0887"
            ],
            [
             0.1111111111111111,
             "#46039f"
            ],
            [
             0.2222222222222222,
             "#7201a8"
            ],
            [
             0.3333333333333333,
             "#9c179e"
            ],
            [
             0.4444444444444444,
             "#bd3786"
            ],
            [
             0.5555555555555556,
             "#d8576b"
            ],
            [
             0.6666666666666666,
             "#ed7953"
            ],
            [
             0.7777777777777778,
             "#fb9f3a"
            ],
            [
             0.8888888888888888,
             "#fdca26"
            ],
            [
             1,
             "#f0f921"
            ]
           ]
          },
          "colorway": [
           "#636efa",
           "#EF553B",
           "#00cc96",
           "#ab63fa",
           "#FFA15A",
           "#19d3f3",
           "#FF6692",
           "#B6E880",
           "#FF97FF",
           "#FECB52"
          ],
          "font": {
           "color": "#2a3f5f"
          },
          "geo": {
           "bgcolor": "white",
           "lakecolor": "white",
           "landcolor": "#E5ECF6",
           "showlakes": true,
           "showland": true,
           "subunitcolor": "white"
          },
          "hoverlabel": {
           "align": "left"
          },
          "hovermode": "closest",
          "mapbox": {
           "style": "light"
          },
          "paper_bgcolor": "white",
          "plot_bgcolor": "#E5ECF6",
          "polar": {
           "angularaxis": {
            "gridcolor": "white",
            "linecolor": "white",
            "ticks": ""
           },
           "bgcolor": "#E5ECF6",
           "radialaxis": {
            "gridcolor": "white",
            "linecolor": "white",
            "ticks": ""
           }
          },
          "scene": {
           "xaxis": {
            "backgroundcolor": "#E5ECF6",
            "gridcolor": "white",
            "gridwidth": 2,
            "linecolor": "white",
            "showbackground": true,
            "ticks": "",
            "zerolinecolor": "white"
           },
           "yaxis": {
            "backgroundcolor": "#E5ECF6",
            "gridcolor": "white",
            "gridwidth": 2,
            "linecolor": "white",
            "showbackground": true,
            "ticks": "",
            "zerolinecolor": "white"
           },
           "zaxis": {
            "backgroundcolor": "#E5ECF6",
            "gridcolor": "white",
            "gridwidth": 2,
            "linecolor": "white",
            "showbackground": true,
            "ticks": "",
            "zerolinecolor": "white"
           }
          },
          "shapedefaults": {
           "line": {
            "color": "#2a3f5f"
           }
          },
          "ternary": {
           "aaxis": {
            "gridcolor": "white",
            "linecolor": "white",
            "ticks": ""
           },
           "baxis": {
            "gridcolor": "white",
            "linecolor": "white",
            "ticks": ""
           },
           "bgcolor": "#E5ECF6",
           "caxis": {
            "gridcolor": "white",
            "linecolor": "white",
            "ticks": ""
           }
          },
          "title": {
           "x": 0.05
          },
          "xaxis": {
           "automargin": true,
           "gridcolor": "white",
           "linecolor": "white",
           "ticks": "",
           "title": {
            "standoff": 15
           },
           "zerolinecolor": "white",
           "zerolinewidth": 2
          },
          "yaxis": {
           "automargin": true,
           "gridcolor": "white",
           "linecolor": "white",
           "ticks": "",
           "title": {
            "standoff": 15
           },
           "zerolinecolor": "white",
           "zerolinewidth": 2
          }
         }
        },
        "width": 1200
       }
      }
     },
     "metadata": {},
     "output_type": "display_data"
    }
   ],
   "source": [
    "fig2 = client.plot_candlestick(df3)\n",
    "fig2.show()"
   ]
  },
  {
   "cell_type": "code",
   "execution_count": 45,
   "metadata": {},
   "outputs": [
    {
     "data": {
      "text/plain": [
       "{'TSLA': ['Tesla Inc', 'United States', 'USD'],\n",
       " 'TL0.DEX': ['Tesla Inc', 'XETRA', 'EUR'],\n",
       " 'TL0.FRK': ['Tesla Inc', 'Frankfurt', 'EUR'],\n",
       " 'TSLA34.SAO': ['Tesla Inc', 'Brazil/Sao Paolo', 'BRL'],\n",
       " 'TSLA.TRT': ['Tesla CDR (CAD Hedged)', 'Toronto', 'CAD'],\n",
       " 'TL01.FRK': ['TESLA INC. CDR DL-001', 'Frankfurt', 'EUR']}"
      ]
     },
     "execution_count": 45,
     "metadata": {},
     "output_type": "execute_result"
    }
   ],
   "source": [
    "client.symbol_search(\"Tesla\")"
   ]
  },
  {
   "cell_type": "code",
   "execution_count": 46,
   "metadata": {},
   "outputs": [
    {
     "data": {
      "text/html": [
       "<div>\n",
       "<style scoped>\n",
       "    .dataframe tbody tr th:only-of-type {\n",
       "        vertical-align: middle;\n",
       "    }\n",
       "\n",
       "    .dataframe tbody tr th {\n",
       "        vertical-align: top;\n",
       "    }\n",
       "\n",
       "    .dataframe thead th {\n",
       "        text-align: right;\n",
       "    }\n",
       "</style>\n",
       "<table border=\"1\" class=\"dataframe\">\n",
       "  <thead>\n",
       "    <tr style=\"text-align: right;\">\n",
       "      <th></th>\n",
       "      <th>1. open</th>\n",
       "      <th>2. high</th>\n",
       "      <th>3. low</th>\n",
       "      <th>4. close</th>\n",
       "      <th>5. volume</th>\n",
       "    </tr>\n",
       "    <tr>\n",
       "      <th>Date</th>\n",
       "      <th></th>\n",
       "      <th></th>\n",
       "      <th></th>\n",
       "      <th></th>\n",
       "      <th></th>\n",
       "    </tr>\n",
       "  </thead>\n",
       "  <tbody>\n",
       "    <tr>\n",
       "      <th>2025-02-18</th>\n",
       "      <td>355.01</td>\n",
       "      <td>359.10</td>\n",
       "      <td>350.02</td>\n",
       "      <td>354.11</td>\n",
       "      <td>51240228.0</td>\n",
       "    </tr>\n",
       "    <tr>\n",
       "      <th>2025-02-14</th>\n",
       "      <td>360.62</td>\n",
       "      <td>362.00</td>\n",
       "      <td>347.50</td>\n",
       "      <td>355.84</td>\n",
       "      <td>68277279.0</td>\n",
       "    </tr>\n",
       "    <tr>\n",
       "      <th>2025-02-13</th>\n",
       "      <td>345.00</td>\n",
       "      <td>358.69</td>\n",
       "      <td>342.85</td>\n",
       "      <td>355.94</td>\n",
       "      <td>89441519.0</td>\n",
       "    </tr>\n",
       "    <tr>\n",
       "      <th>2025-02-12</th>\n",
       "      <td>329.94</td>\n",
       "      <td>346.40</td>\n",
       "      <td>329.12</td>\n",
       "      <td>336.51</td>\n",
       "      <td>105382729.0</td>\n",
       "    </tr>\n",
       "    <tr>\n",
       "      <th>2025-02-11</th>\n",
       "      <td>345.80</td>\n",
       "      <td>349.37</td>\n",
       "      <td>325.10</td>\n",
       "      <td>328.50</td>\n",
       "      <td>118543400.0</td>\n",
       "    </tr>\n",
       "  </tbody>\n",
       "</table>\n",
       "</div>"
      ],
      "text/plain": [
       "            1. open  2. high  3. low  4. close    5. volume\n",
       "Date                                                       \n",
       "2025-02-18   355.01   359.10  350.02    354.11   51240228.0\n",
       "2025-02-14   360.62   362.00  347.50    355.84   68277279.0\n",
       "2025-02-13   345.00   358.69  342.85    355.94   89441519.0\n",
       "2025-02-12   329.94   346.40  329.12    336.51  105382729.0\n",
       "2025-02-11   345.80   349.37  325.10    328.50  118543400.0"
      ]
     },
     "execution_count": 46,
     "metadata": {},
     "output_type": "execute_result"
    }
   ],
   "source": [
    "df4 = client.get_daily_prices(\"TSLA\")\n",
    "df4.head()"
   ]
  },
  {
   "cell_type": "code",
   "execution_count": 47,
   "metadata": {},
   "outputs": [],
   "source": [
    "df4.to_csv(\"Tesla.csv\")"
   ]
  },
  {
   "cell_type": "code",
   "execution_count": 48,
   "metadata": {},
   "outputs": [
    {
     "data": {
      "application/vnd.plotly.v1+json": {
       "config": {
        "plotlyServerURL": "https://plot.ly"
       },
       "data": [
        {
         "close": [
          354.11,
          355.84,
          355.94,
          336.51,
          328.5,
          350.73,
          361.62,
          374.32,
          378.17,
          392.21,
          383.68,
          404.6,
          400.28,
          389.1,
          398.09,
          397.15,
          406.58,
          412.38,
          415.11,
          424.07,
          426.5,
          413.82,
          428.22,
          396.36,
          403.31,
          394.74,
          394.94,
          394.36,
          411.05,
          410.44,
          379.28,
          403.84,
          417.41,
          431.66,
          454.13,
          462.28,
          430.6,
          421.06,
          436.17,
          440.13,
          479.86,
          463.02,
          436.23,
          418.1,
          424.77,
          400.99,
          389.79,
          389.22,
          369.49,
          357.93,
          351.42,
          357.09,
          345.16,
          332.89,
          338.23,
          338.59,
          352.56,
          339.64,
          342.03,
          346,
          338.74,
          320.72,
          311.18,
          330.24,
          328.49,
          350,
          321.22,
          296.91,
          288.53,
          251.44,
          242.84,
          248.98,
          249.85,
          257.55,
          259.52,
          262.51,
          269.19,
          260.48,
          213.65,
          217.97,
          218.85,
          220.7,
          220.89,
          221.33,
          219.57,
          219.16,
          217.8,
          238.77,
          241.05,
          244.5,
          240.83,
          250.08,
          240.66,
          249.02,
          258.02,
          261.63,
          260.46,
          254.22,
          257.02,
          254.27
         ],
         "high": [
          359.1,
          362,
          358.69,
          346.4,
          349.37,
          362.7,
          380.5459,
          375.4,
          388.39,
          394,
          389.17,
          419.99,
          412.5,
          398.5899,
          400.59,
          406.69,
          418.88,
          420.73,
          428,
          433.2,
          439.74,
          424,
          429.8,
          422.64,
          403.79,
          399.28,
          402.4999,
          414.33,
          426.43,
          411.8799,
          392.7299,
          427.93,
          427,
          450,
          465.3299,
          462.78,
          434.51,
          447.08,
          456.36,
          488.5399,
          483.99,
          463.19,
          436.3,
          429.3,
          424.88,
          409.73,
          404.8,
          389.49,
          375.43,
          358.1,
          355.69,
          360,
          345.45,
          342.55,
          346.96,
          361.93,
          361.53,
          347.9899,
          346.5999,
          347.3799,
          348.5499,
          324.6799,
          329.98,
          344.5999,
          345.84,
          358.64,
          328.71,
          299.75,
          289.59,
          255.2799,
          248.9,
          254,
          259.75,
          263.35,
          264.98,
          273.536,
          269.49,
          262.1199,
          218.72,
          218.22,
          220.48,
          222.28,
          222.08,
          222.8199,
          224.26,
          221.91,
          223.34,
          242.7899,
          247.43,
          246.21,
          249.83,
          250.96,
          249.79,
          251.1585,
          263.98,
          264.86,
          260.6999,
          261.75,
          257.05,
          257.19
         ],
         "low": [
          350.02,
          347.5,
          342.85,
          329.12,
          325.1,
          350.51,
          360.34,
          363.18,
          375.53,
          381.4,
          374.36,
          401.34,
          384.41,
          384.48,
          386.5,
          389,
          405.78,
          408.95,
          414.59,
          406.31,
          419.75,
          409.13,
          405.661,
          394.54,
          380.07,
          377.29,
          387.4,
          390,
          401.7,
          379.45,
          373.04,
          402.54,
          415.75,
          426.5,
          451.02,
          435.14,
          415.4112,
          417.64,
          420.02,
          427.01,
          457.5101,
          436.15,
          415.71,
          415,
          402.38,
          390.85,
          378.01,
          370.8,
          359.5,
          348.6,
          348.2,
          351.1501,
          334.65,
          326.59,
          335.66,
          338.2,
          337.7,
          335.28,
          334.3,
          332.75,
          330.01,
          309.22,
          310.37,
          322.5,
          323.31,
          336,
          297.66,
          285.52,
          275.62,
          246.2101,
          238.88,
          246.63,
          249.25,
          255.8201,
          255.51,
          262.24,
          255.32,
          242.65,
          212.11,
          215.26,
          215.726,
          219.23,
          217.9,
          218.93,
          217.12,
          213.74,
          214.38,
          232.34,
          239.51,
          240.56,
          240.7,
          244.58,
          237.81,
          241.5,
          248.53,
          255.77,
          254.12,
          251.53,
          252.28,
          249.0501
         ],
         "open": [
          355.01,
          360.62,
          345,
          329.94,
          345.8,
          356.21,
          370.19,
          373.03,
          387.51,
          382.63,
          386.68,
          401.53,
          410.78,
          395.21,
          396.91,
          394.8,
          414.45,
          416.06,
          416.81,
          432.64,
          421.5,
          423.49,
          409.9,
          414.34,
          383.21,
          391.4,
          392.95,
          405.83,
          423.2,
          381.48,
          390.1,
          423.79,
          419.4,
          449.52,
          465.16,
          435.9,
          431,
          425.505,
          451.88,
          466.495,
          475.9,
          441.09,
          420,
          424.84,
          409.7,
          392.68,
          397.61,
          377.42,
          359.87,
          353,
          351.8,
          352.38,
          336.08,
          341.8,
          341,
          360.14,
          341.085,
          343.81,
          345,
          335.76,
          340.73,
          310.57,
          327.69,
          335.85,
          342.74,
          346.3,
          299.14,
          288.89,
          284.67,
          247.34,
          244.56,
          252.043,
          257.99,
          258.035,
          264.51,
          270,
          256.01,
          244.68,
          217.125,
          217.31,
          218.9,
          220.71,
          221.59,
          221.4,
          220.01,
          220.13,
          220.13,
          241.81,
          243.82,
          243.56,
          249,
          246.69,
          244.48,
          247.55,
          262.67,
          259.04,
          257.375,
          260.6,
          252.54,
          254.08
         ],
         "type": "candlestick",
         "x": [
          "2025-02-18T00:00:00",
          "2025-02-14T00:00:00",
          "2025-02-13T00:00:00",
          "2025-02-12T00:00:00",
          "2025-02-11T00:00:00",
          "2025-02-10T00:00:00",
          "2025-02-07T00:00:00",
          "2025-02-06T00:00:00",
          "2025-02-05T00:00:00",
          "2025-02-04T00:00:00",
          "2025-02-03T00:00:00",
          "2025-01-31T00:00:00",
          "2025-01-30T00:00:00",
          "2025-01-29T00:00:00",
          "2025-01-28T00:00:00",
          "2025-01-27T00:00:00",
          "2025-01-24T00:00:00",
          "2025-01-23T00:00:00",
          "2025-01-22T00:00:00",
          "2025-01-21T00:00:00",
          "2025-01-17T00:00:00",
          "2025-01-16T00:00:00",
          "2025-01-15T00:00:00",
          "2025-01-14T00:00:00",
          "2025-01-13T00:00:00",
          "2025-01-10T00:00:00",
          "2025-01-08T00:00:00",
          "2025-01-07T00:00:00",
          "2025-01-06T00:00:00",
          "2025-01-03T00:00:00",
          "2025-01-02T00:00:00",
          "2024-12-31T00:00:00",
          "2024-12-30T00:00:00",
          "2024-12-27T00:00:00",
          "2024-12-26T00:00:00",
          "2024-12-24T00:00:00",
          "2024-12-23T00:00:00",
          "2024-12-20T00:00:00",
          "2024-12-19T00:00:00",
          "2024-12-18T00:00:00",
          "2024-12-17T00:00:00",
          "2024-12-16T00:00:00",
          "2024-12-13T00:00:00",
          "2024-12-12T00:00:00",
          "2024-12-11T00:00:00",
          "2024-12-10T00:00:00",
          "2024-12-09T00:00:00",
          "2024-12-06T00:00:00",
          "2024-12-05T00:00:00",
          "2024-12-04T00:00:00",
          "2024-12-03T00:00:00",
          "2024-12-02T00:00:00",
          "2024-11-29T00:00:00",
          "2024-11-27T00:00:00",
          "2024-11-26T00:00:00",
          "2024-11-25T00:00:00",
          "2024-11-22T00:00:00",
          "2024-11-21T00:00:00",
          "2024-11-20T00:00:00",
          "2024-11-19T00:00:00",
          "2024-11-18T00:00:00",
          "2024-11-15T00:00:00",
          "2024-11-14T00:00:00",
          "2024-11-13T00:00:00",
          "2024-11-12T00:00:00",
          "2024-11-11T00:00:00",
          "2024-11-08T00:00:00",
          "2024-11-07T00:00:00",
          "2024-11-06T00:00:00",
          "2024-11-05T00:00:00",
          "2024-11-04T00:00:00",
          "2024-11-01T00:00:00",
          "2024-10-31T00:00:00",
          "2024-10-30T00:00:00",
          "2024-10-29T00:00:00",
          "2024-10-28T00:00:00",
          "2024-10-25T00:00:00",
          "2024-10-24T00:00:00",
          "2024-10-23T00:00:00",
          "2024-10-22T00:00:00",
          "2024-10-21T00:00:00",
          "2024-10-18T00:00:00",
          "2024-10-17T00:00:00",
          "2024-10-16T00:00:00",
          "2024-10-15T00:00:00",
          "2024-10-14T00:00:00",
          "2024-10-11T00:00:00",
          "2024-10-10T00:00:00",
          "2024-10-09T00:00:00",
          "2024-10-08T00:00:00",
          "2024-10-07T00:00:00",
          "2024-10-04T00:00:00",
          "2024-10-03T00:00:00",
          "2024-10-02T00:00:00",
          "2024-10-01T00:00:00",
          "2024-09-30T00:00:00",
          "2024-09-27T00:00:00",
          "2024-09-26T00:00:00",
          "2024-09-25T00:00:00",
          "2024-09-24T00:00:00"
         ]
        }
       ],
       "layout": {
        "height": 800,
        "template": {
         "data": {
          "bar": [
           {
            "error_x": {
             "color": "#2a3f5f"
            },
            "error_y": {
             "color": "#2a3f5f"
            },
            "marker": {
             "line": {
              "color": "#E5ECF6",
              "width": 0.5
             },
             "pattern": {
              "fillmode": "overlay",
              "size": 10,
              "solidity": 0.2
             }
            },
            "type": "bar"
           }
          ],
          "barpolar": [
           {
            "marker": {
             "line": {
              "color": "#E5ECF6",
              "width": 0.5
             },
             "pattern": {
              "fillmode": "overlay",
              "size": 10,
              "solidity": 0.2
             }
            },
            "type": "barpolar"
           }
          ],
          "carpet": [
           {
            "aaxis": {
             "endlinecolor": "#2a3f5f",
             "gridcolor": "white",
             "linecolor": "white",
             "minorgridcolor": "white",
             "startlinecolor": "#2a3f5f"
            },
            "baxis": {
             "endlinecolor": "#2a3f5f",
             "gridcolor": "white",
             "linecolor": "white",
             "minorgridcolor": "white",
             "startlinecolor": "#2a3f5f"
            },
            "type": "carpet"
           }
          ],
          "choropleth": [
           {
            "colorbar": {
             "outlinewidth": 0,
             "ticks": ""
            },
            "type": "choropleth"
           }
          ],
          "contour": [
           {
            "colorbar": {
             "outlinewidth": 0,
             "ticks": ""
            },
            "colorscale": [
             [
              0,
              "#0d0887"
             ],
             [
              0.1111111111111111,
              "#46039f"
             ],
             [
              0.2222222222222222,
              "#7201a8"
             ],
             [
              0.3333333333333333,
              "#9c179e"
             ],
             [
              0.4444444444444444,
              "#bd3786"
             ],
             [
              0.5555555555555556,
              "#d8576b"
             ],
             [
              0.6666666666666666,
              "#ed7953"
             ],
             [
              0.7777777777777778,
              "#fb9f3a"
             ],
             [
              0.8888888888888888,
              "#fdca26"
             ],
             [
              1,
              "#f0f921"
             ]
            ],
            "type": "contour"
           }
          ],
          "contourcarpet": [
           {
            "colorbar": {
             "outlinewidth": 0,
             "ticks": ""
            },
            "type": "contourcarpet"
           }
          ],
          "heatmap": [
           {
            "colorbar": {
             "outlinewidth": 0,
             "ticks": ""
            },
            "colorscale": [
             [
              0,
              "#0d0887"
             ],
             [
              0.1111111111111111,
              "#46039f"
             ],
             [
              0.2222222222222222,
              "#7201a8"
             ],
             [
              0.3333333333333333,
              "#9c179e"
             ],
             [
              0.4444444444444444,
              "#bd3786"
             ],
             [
              0.5555555555555556,
              "#d8576b"
             ],
             [
              0.6666666666666666,
              "#ed7953"
             ],
             [
              0.7777777777777778,
              "#fb9f3a"
             ],
             [
              0.8888888888888888,
              "#fdca26"
             ],
             [
              1,
              "#f0f921"
             ]
            ],
            "type": "heatmap"
           }
          ],
          "heatmapgl": [
           {
            "colorbar": {
             "outlinewidth": 0,
             "ticks": ""
            },
            "colorscale": [
             [
              0,
              "#0d0887"
             ],
             [
              0.1111111111111111,
              "#46039f"
             ],
             [
              0.2222222222222222,
              "#7201a8"
             ],
             [
              0.3333333333333333,
              "#9c179e"
             ],
             [
              0.4444444444444444,
              "#bd3786"
             ],
             [
              0.5555555555555556,
              "#d8576b"
             ],
             [
              0.6666666666666666,
              "#ed7953"
             ],
             [
              0.7777777777777778,
              "#fb9f3a"
             ],
             [
              0.8888888888888888,
              "#fdca26"
             ],
             [
              1,
              "#f0f921"
             ]
            ],
            "type": "heatmapgl"
           }
          ],
          "histogram": [
           {
            "marker": {
             "pattern": {
              "fillmode": "overlay",
              "size": 10,
              "solidity": 0.2
             }
            },
            "type": "histogram"
           }
          ],
          "histogram2d": [
           {
            "colorbar": {
             "outlinewidth": 0,
             "ticks": ""
            },
            "colorscale": [
             [
              0,
              "#0d0887"
             ],
             [
              0.1111111111111111,
              "#46039f"
             ],
             [
              0.2222222222222222,
              "#7201a8"
             ],
             [
              0.3333333333333333,
              "#9c179e"
             ],
             [
              0.4444444444444444,
              "#bd3786"
             ],
             [
              0.5555555555555556,
              "#d8576b"
             ],
             [
              0.6666666666666666,
              "#ed7953"
             ],
             [
              0.7777777777777778,
              "#fb9f3a"
             ],
             [
              0.8888888888888888,
              "#fdca26"
             ],
             [
              1,
              "#f0f921"
             ]
            ],
            "type": "histogram2d"
           }
          ],
          "histogram2dcontour": [
           {
            "colorbar": {
             "outlinewidth": 0,
             "ticks": ""
            },
            "colorscale": [
             [
              0,
              "#0d0887"
             ],
             [
              0.1111111111111111,
              "#46039f"
             ],
             [
              0.2222222222222222,
              "#7201a8"
             ],
             [
              0.3333333333333333,
              "#9c179e"
             ],
             [
              0.4444444444444444,
              "#bd3786"
             ],
             [
              0.5555555555555556,
              "#d8576b"
             ],
             [
              0.6666666666666666,
              "#ed7953"
             ],
             [
              0.7777777777777778,
              "#fb9f3a"
             ],
             [
              0.8888888888888888,
              "#fdca26"
             ],
             [
              1,
              "#f0f921"
             ]
            ],
            "type": "histogram2dcontour"
           }
          ],
          "mesh3d": [
           {
            "colorbar": {
             "outlinewidth": 0,
             "ticks": ""
            },
            "type": "mesh3d"
           }
          ],
          "parcoords": [
           {
            "line": {
             "colorbar": {
              "outlinewidth": 0,
              "ticks": ""
             }
            },
            "type": "parcoords"
           }
          ],
          "pie": [
           {
            "automargin": true,
            "type": "pie"
           }
          ],
          "scatter": [
           {
            "fillpattern": {
             "fillmode": "overlay",
             "size": 10,
             "solidity": 0.2
            },
            "type": "scatter"
           }
          ],
          "scatter3d": [
           {
            "line": {
             "colorbar": {
              "outlinewidth": 0,
              "ticks": ""
             }
            },
            "marker": {
             "colorbar": {
              "outlinewidth": 0,
              "ticks": ""
             }
            },
            "type": "scatter3d"
           }
          ],
          "scattercarpet": [
           {
            "marker": {
             "colorbar": {
              "outlinewidth": 0,
              "ticks": ""
             }
            },
            "type": "scattercarpet"
           }
          ],
          "scattergeo": [
           {
            "marker": {
             "colorbar": {
              "outlinewidth": 0,
              "ticks": ""
             }
            },
            "type": "scattergeo"
           }
          ],
          "scattergl": [
           {
            "marker": {
             "colorbar": {
              "outlinewidth": 0,
              "ticks": ""
             }
            },
            "type": "scattergl"
           }
          ],
          "scattermapbox": [
           {
            "marker": {
             "colorbar": {
              "outlinewidth": 0,
              "ticks": ""
             }
            },
            "type": "scattermapbox"
           }
          ],
          "scatterpolar": [
           {
            "marker": {
             "colorbar": {
              "outlinewidth": 0,
              "ticks": ""
             }
            },
            "type": "scatterpolar"
           }
          ],
          "scatterpolargl": [
           {
            "marker": {
             "colorbar": {
              "outlinewidth": 0,
              "ticks": ""
             }
            },
            "type": "scatterpolargl"
           }
          ],
          "scatterternary": [
           {
            "marker": {
             "colorbar": {
              "outlinewidth": 0,
              "ticks": ""
             }
            },
            "type": "scatterternary"
           }
          ],
          "surface": [
           {
            "colorbar": {
             "outlinewidth": 0,
             "ticks": ""
            },
            "colorscale": [
             [
              0,
              "#0d0887"
             ],
             [
              0.1111111111111111,
              "#46039f"
             ],
             [
              0.2222222222222222,
              "#7201a8"
             ],
             [
              0.3333333333333333,
              "#9c179e"
             ],
             [
              0.4444444444444444,
              "#bd3786"
             ],
             [
              0.5555555555555556,
              "#d8576b"
             ],
             [
              0.6666666666666666,
              "#ed7953"
             ],
             [
              0.7777777777777778,
              "#fb9f3a"
             ],
             [
              0.8888888888888888,
              "#fdca26"
             ],
             [
              1,
              "#f0f921"
             ]
            ],
            "type": "surface"
           }
          ],
          "table": [
           {
            "cells": {
             "fill": {
              "color": "#EBF0F8"
             },
             "line": {
              "color": "white"
             }
            },
            "header": {
             "fill": {
              "color": "#C8D4E3"
             },
             "line": {
              "color": "white"
             }
            },
            "type": "table"
           }
          ]
         },
         "layout": {
          "annotationdefaults": {
           "arrowcolor": "#2a3f5f",
           "arrowhead": 0,
           "arrowwidth": 1
          },
          "autotypenumbers": "strict",
          "coloraxis": {
           "colorbar": {
            "outlinewidth": 0,
            "ticks": ""
           }
          },
          "colorscale": {
           "diverging": [
            [
             0,
             "#8e0152"
            ],
            [
             0.1,
             "#c51b7d"
            ],
            [
             0.2,
             "#de77ae"
            ],
            [
             0.3,
             "#f1b6da"
            ],
            [
             0.4,
             "#fde0ef"
            ],
            [
             0.5,
             "#f7f7f7"
            ],
            [
             0.6,
             "#e6f5d0"
            ],
            [
             0.7,
             "#b8e186"
            ],
            [
             0.8,
             "#7fbc41"
            ],
            [
             0.9,
             "#4d9221"
            ],
            [
             1,
             "#276419"
            ]
           ],
           "sequential": [
            [
             0,
             "#0d0887"
            ],
            [
             0.1111111111111111,
             "#46039f"
            ],
            [
             0.2222222222222222,
             "#7201a8"
            ],
            [
             0.3333333333333333,
             "#9c179e"
            ],
            [
             0.4444444444444444,
             "#bd3786"
            ],
            [
             0.5555555555555556,
             "#d8576b"
            ],
            [
             0.6666666666666666,
             "#ed7953"
            ],
            [
             0.7777777777777778,
             "#fb9f3a"
            ],
            [
             0.8888888888888888,
             "#fdca26"
            ],
            [
             1,
             "#f0f921"
            ]
           ],
           "sequentialminus": [
            [
             0,
             "#0d0887"
            ],
            [
             0.1111111111111111,
             "#46039f"
            ],
            [
             0.2222222222222222,
             "#7201a8"
            ],
            [
             0.3333333333333333,
             "#9c179e"
            ],
            [
             0.4444444444444444,
             "#bd3786"
            ],
            [
             0.5555555555555556,
             "#d8576b"
            ],
            [
             0.6666666666666666,
             "#ed7953"
            ],
            [
             0.7777777777777778,
             "#fb9f3a"
            ],
            [
             0.8888888888888888,
             "#fdca26"
            ],
            [
             1,
             "#f0f921"
            ]
           ]
          },
          "colorway": [
           "#636efa",
           "#EF553B",
           "#00cc96",
           "#ab63fa",
           "#FFA15A",
           "#19d3f3",
           "#FF6692",
           "#B6E880",
           "#FF97FF",
           "#FECB52"
          ],
          "font": {
           "color": "#2a3f5f"
          },
          "geo": {
           "bgcolor": "white",
           "lakecolor": "white",
           "landcolor": "#E5ECF6",
           "showlakes": true,
           "showland": true,
           "subunitcolor": "white"
          },
          "hoverlabel": {
           "align": "left"
          },
          "hovermode": "closest",
          "mapbox": {
           "style": "light"
          },
          "paper_bgcolor": "white",
          "plot_bgcolor": "#E5ECF6",
          "polar": {
           "angularaxis": {
            "gridcolor": "white",
            "linecolor": "white",
            "ticks": ""
           },
           "bgcolor": "#E5ECF6",
           "radialaxis": {
            "gridcolor": "white",
            "linecolor": "white",
            "ticks": ""
           }
          },
          "scene": {
           "xaxis": {
            "backgroundcolor": "#E5ECF6",
            "gridcolor": "white",
            "gridwidth": 2,
            "linecolor": "white",
            "showbackground": true,
            "ticks": "",
            "zerolinecolor": "white"
           },
           "yaxis": {
            "backgroundcolor": "#E5ECF6",
            "gridcolor": "white",
            "gridwidth": 2,
            "linecolor": "white",
            "showbackground": true,
            "ticks": "",
            "zerolinecolor": "white"
           },
           "zaxis": {
            "backgroundcolor": "#E5ECF6",
            "gridcolor": "white",
            "gridwidth": 2,
            "linecolor": "white",
            "showbackground": true,
            "ticks": "",
            "zerolinecolor": "white"
           }
          },
          "shapedefaults": {
           "line": {
            "color": "#2a3f5f"
           }
          },
          "ternary": {
           "aaxis": {
            "gridcolor": "white",
            "linecolor": "white",
            "ticks": ""
           },
           "baxis": {
            "gridcolor": "white",
            "linecolor": "white",
            "ticks": ""
           },
           "bgcolor": "#E5ECF6",
           "caxis": {
            "gridcolor": "white",
            "linecolor": "white",
            "ticks": ""
           }
          },
          "title": {
           "x": 0.05
          },
          "xaxis": {
           "automargin": true,
           "gridcolor": "white",
           "linecolor": "white",
           "ticks": "",
           "title": {
            "standoff": 15
           },
           "zerolinecolor": "white",
           "zerolinewidth": 2
          },
          "yaxis": {
           "automargin": true,
           "gridcolor": "white",
           "linecolor": "white",
           "ticks": "",
           "title": {
            "standoff": 15
           },
           "zerolinecolor": "white",
           "zerolinewidth": 2
          }
         }
        },
        "width": 1200
       }
      }
     },
     "metadata": {},
     "output_type": "display_data"
    }
   ],
   "source": [
    "client.plot_candlestick(df4)"
   ]
  },
  {
   "cell_type": "code",
   "execution_count": null,
   "metadata": {},
   "outputs": [],
   "source": []
  }
 ],
 "metadata": {
  "kernelspec": {
   "display_name": "venv",
   "language": "python",
   "name": "python3"
  },
  "language_info": {
   "codemirror_mode": {
    "name": "ipython",
    "version": 3
   },
   "file_extension": ".py",
   "mimetype": "text/x-python",
   "name": "python",
   "nbconvert_exporter": "python",
   "pygments_lexer": "ipython3",
   "version": "3.12.5"
  }
 },
 "nbformat": 4,
 "nbformat_minor": 2
}
